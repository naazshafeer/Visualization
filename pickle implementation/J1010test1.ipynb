{
 "cells": [
  {
   "cell_type": "markdown",
   "metadata": {},
   "source": [
    "This is the first of the trials of implementing data frames and storing data to run more plots in efficient time"
   ]
  },
  {
   "cell_type": "code",
   "execution_count": 11,
   "metadata": {},
   "outputs": [],
   "source": [
    "import os\n",
    "import pickle as pkl\n",
    "import pandas as pd\n",
    "import numpy as np\n",
    "import matplotlib.pyplot as plt\n",
    "from mpl_toolkits.mplot3d import Axes3D\n",
    "import matplotlib.animation as animation\n",
    "import scipy as sci\n",
    "from scipy import integrate\n",
    "from scipy.integrate import odeint\n",
    "from astropy import units as u\n",
    "from mpl_toolkits.axes_grid1.inset_locator import inset_axes\n",
    "import astropy.constants as const\n",
    "import math"
   ]
  },
  {
   "cell_type": "code",
   "execution_count": 12,
   "metadata": {},
   "outputs": [],
   "source": [
    "plt.rcParams['font.family'] = 'Times New Roman'\n",
    "#this is to make the font of the plots to be Times New Roman"
   ]
  },
  {
   "cell_type": "markdown",
   "metadata": {},
   "source": [
    "Initial conditions"
   ]
  },
  {
   "cell_type": "markdown",
   "metadata": {},
   "source": [
    "Functions "
   ]
  },
  {
   "cell_type": "code",
   "execution_count": 13,
   "metadata": {},
   "outputs": [],
   "source": [
    "def semimajor_axis(r1_, r2_):\n",
    "    '''\n",
    "    This function calculated the semi-major axis. In this case, r=a\n",
    "    '''\n",
    "    return (np.linalg.norm(r2_ - r1_) / 2)\n",
    "def distance_to_com(r_, rcom_):\n",
    "    '''\n",
    "    This function calculates the distance from the center of mass\n",
    "    '''\n",
    "    return np.linalg.norm(r_ - rcom_)\n",
    "def sigma(m_gal_):\n",
    "    '''\n",
    "    This function calculates the velocity dispersion of the galaxy\n",
    "    '''\n",
    "    return (10**(2.2969)*(m_gal_/ (10**(11) * const.M_sun))**(0.299)) * (u.km/u.s)\n",
    "def coulomb_log(dist_, o_, G_, m_):\n",
    "\n",
    "    '''\n",
    "    Got this from implement df, making sure that both m1, and m2 can be used here\n",
    "    '''\n",
    "    x = (dist_ * o_**(2)) / (G_ * m_)\n",
    "    return math.log10(x.to_value(u.dimensionless_unscaled))\n",
    "def DF_force(ln_A_, m_, m_gal_, r_choice_, rcom_, vfirst_, vsecond_, G_):\n",
    "    '''\n",
    "    Now we will only be looking at the force and then apply the acceleration later.\n",
    "    Also added first and second to make sure that the negative signs are applied correctly\n",
    "    '''\n",
    "    F_D = 0.428 * ln_A_ * ((G_ * m_**(2))/(np.linalg.norm(r_choice_ - rcom_))**(2))\n",
    "\n",
    "    v_r = vfirst_ - vsecond_\n",
    "\n",
    "    v_rmag = np.linalg.norm(v_r) \n",
    "\n",
    "    v_rel_unit = (v_r / v_rmag)\n",
    "\n",
    "    F_D_i = (F_D * v_rel_unit[0])\n",
    "    F_D_j = (F_D * v_rel_unit[1])\n",
    "    F_D_k = (F_D * v_rel_unit[2])\n",
    "    \n",
    "    # np.array([F_D_i.value, F_D_j.value, F_D_k.value])\n",
    "\n",
    "    return np.array([F_D_i.to((u.kg*u.m)/(u.s**2)).value, F_D_j.to((u.kg*u.m)/ (u.s**2)).value, F_D_k.to((u.kg*u.m)/ (u.s**2)).value])\n",
    "def twobodyeqn(w, t, G_, m1_, m2_, m_gal_, rcom_, r_, b_=1):\n",
    "    '''\n",
    "    used the two body equation from initial summer runs\n",
    "    '''\n",
    "    r1 = w[:3] * u.pc\n",
    "    r2 = w[3:6] * u.pc\n",
    "    v1 = w[6:9] * u.km / u.s\n",
    "    v2 = w[9:12] * u.km / u.s\n",
    "    \n",
    "\n",
    "    r_vec = r2 - r1\n",
    "    r = np.linalg.norm(r_vec)\n",
    "    \n",
    "\n",
    "    a = semimajor_axis(r1, r2)\n",
    "    o = sigma(m_gal_) \n",
    "\n",
    "    dist1 = distance_to_com(r1, rcom_)\n",
    "    dist2 = distance_to_com(r2, rcom_)\n",
    "\n",
    "    ln_A1 = coulomb_log(dist1, o, G_, m1_)\n",
    "    ln_A2 = coulomb_log(dist2, o, G_, m2_)\n",
    "    \n",
    "\n",
    "    df_force1 = DF_force(ln_A1, m1_, m_gal_, r1, rcom_, v2, v1, G_) * u.kg * u.m / u.s**2\n",
    "    df_force2 = DF_force(ln_A2, m2_, m_gal_, r2, rcom_, v1, v2, G_) * u.kg * u.m / u.s**2\n",
    "    \n",
    "\n",
    "    df_accel1 = (df_force1 / m1_).to(u.km / u.s**2)\n",
    "    df_accel2 = (df_force2 / m2_).to(u.km / u.s**2)\n",
    "    \n",
    "\n",
    "    dv1bydt = (G_ * m2_ * r_vec / r**3).to(u.km / u.s**2) \n",
    "    dv2bydt = (-G_ * m1_ * r_vec / r**3).to(u.km / u.s**2) \n",
    "    \n",
    "\n",
    "    dr1bydt = v1.to(u.km / u.s)\n",
    "    dr2bydt = v2.to(u.km / u.s)\n",
    "    \n",
    "    r_derivs = np.concatenate((dr1bydt, dr2bydt))\n",
    "    derivs = np.concatenate((r_derivs, dv1bydt, dv2bydt))\n",
    "\n",
    "    \n",
    "    return derivs"
   ]
  },
  {
   "cell_type": "markdown",
   "metadata": {},
   "source": [
    "Kris' Equations from J1010 for DF checks"
   ]
  },
  {
   "cell_type": "code",
   "execution_count": 14,
   "metadata": {},
   "outputs": [],
   "source": [
    "def find_reff(Mgal_):\n",
    "    '''\n",
    "    Find effective radius for galaxy given mstar.\n",
    "    Uses Eq. 4 of Dabringhausen, Hilker \\& Kroupa (2008)\n",
    "    note: although this paper talks mostly about dwarfs,\n",
    "    they do find that this particular equation fits\n",
    "    massive ellipticals with M\\gtrsim 10^11 Msun well.\n",
    "    '''\n",
    "    a = 2.95 \n",
    "    b = 0.596\n",
    "    return (a*(Mgal_/(1.e6*u.Msun))**b)*u.pc\n",
    "def find_dyn_hard_radius(m_, mgal_, reff_):\n",
    "    '''\n",
    "    finds when stellar hardening takes over from\n",
    "    dynamical friction\n",
    "    uses Begelman+ (1980) Eq. in paragraph above Eq. 2\n",
    "    should use rcore and mstar in core instead of reff\n",
    "    and total mstar....that's why we don't actually use this.\n",
    "    '''\n",
    "    rb = (m_/mgal_)**(1./3.)*reff_\n",
    "    # print(\"Binary radius is:\", rb)\n",
    "    return ((rb/reff_)**3*reff_).to(u.pc) #two equations in kris' source?\n",
    "def BT_dyn_hard_radius(m1_,m2_, veldisp_):\n",
    "    '''\n",
    "    finds semi-major axis\n",
    "    when stellar hardening takes over from\n",
    "    dynamical friction\n",
    "    BT Eq. 8.19\n",
    "    '''\n",
    "    massterm = (m1_+m2_)/(10**8*u.Msun)\n",
    "    velterm = ((200*u.km/u.s)/veldisp_)**2\n",
    "    return (10*u.pc*massterm*velterm).to(u.pc)\n",
    "def dyn_timescale(m_, o_, a_, ln_A_):\n",
    "    \"\"\"\"\n",
    "    Finds the dynamical timescale.\n",
    "    Computed according to equation 8.12 in B&T\n",
    "    m_ is the secondary BH\n",
    "    sigma_ is the vel disp of the stars in the core\n",
    "    a_ is the initial semimajor axis\n",
    "    \"\"\"\n",
    "    prefactor = 19./ln_A_\n",
    "    aterm = (a_/(5.*u.kpc))**2\n",
    "    vterm = o_/(200*u.km/u.s)\n",
    "    mterm = (10**8*u.Msun/m_)\n",
    "    return (prefactor*aterm*vterm*mterm*u.Gyr).to(u.Myr)\n"
   ]
  },
  {
   "cell_type": "code",
   "execution_count": 15,
   "metadata": {},
   "outputs": [],
   "source": [
    "\n",
    "# def compute_distance_from_com(r, r_com):\n",
    "#     r_com = r - r_com\n",
    "#     return np.sqrt(r_com[0]**2 + r_com[1]**2 + r_com[2]**2)\n",
    "\n",
    "# def coulomb_logarithm(r_com, o, m):\n",
    "#     x = (np.abs(r_com.to(u.km)) * o**2) / (G * m)\n",
    "#     return math.log10(x.to_value(u.dimensionless_unscaled))\n",
    "\n",
    "# def dynamical_friction(m, r_com, ln_A):\n",
    "#     return 0.428 * ln_A * (G * m**2 / r_com**2)\n",
    "\n",
    "# def relative_velocity_unit_vector(v, v_com):\n",
    "#     v_r = v - v_com\n",
    "#     return v_r / np.linalg.norm(v_r)\n",
    "\n",
    "# def dynamical_friction_force_vector(F_D, v_rel_unit):\n",
    "#     return -F_D * v_rel_unit\n",
    "\n",
    "# def dynamical_friction_acceleration(F_D_vector, m):\n",
    "#     return (F_D_vector / m).to(u.km / u.s**2)\n",
    "\n",
    "# def gravitational_force(r1, r2, m1, m2):\n",
    "#     r = np.sqrt(np.sum((r2 - r1)**2))\n",
    "#     force = G * m1 * m2 / r**3\n",
    "#     return force\n",
    "\n",
    "# def update_velocities(v1, v2, delta_t, F_D1, F_D2, r1, r2, r_com, m1, m2, m_gal, v_com):\n",
    "\n",
    "#     dv1bydt = gravitational_force(r1, r2, m2, m1) + (c * a_D1)\n",
    "#     dv2bydt = -gravitational_force(r1, r2, m1, m2) + (c * a_D2)\n",
    "\n",
    "#     v1 += dv1bydt * delta_t\n",
    "#     v2 += dv2bydt * delta_t\n",
    "\n",
    "\n",
    "#     r1 += v1.to(u.pc / u.s) * delta_t\n",
    "#     r2 += v2.to(u.pc / u.s) * delta_t\n",
    "\n",
    "#     return v1, v2, r1, r2\n",
    "\n",
    "# def compute_dynamical_friction(r1, r2, r_com, m1, m2, m_gal, v1, v2, v_com):\n",
    "\n",
    "#     r1_com = compute_distance_from_com(r1, r_com)\n",
    "#     r2_com = compute_distance_from_com(r2, r_com)\n",
    "\n",
    "\n",
    "#     o = ((10**(2.2969)) * (m_gal / (10**(11) * u.M_sun))**(0.299)) * (u.km/u.s)\n",
    "#     ln_A1 = coulomb_logarithm(r1_com, o, m1)\n",
    "#     ln_A2 = coulomb_logarithm(r2_com, o, m2)\n",
    "\n",
    "\n",
    "#     F_D1 = dynamical_friction(m1, r1_com, ln_A1)\n",
    "#     F_D2 = dynamical_friction(m2, r2_com, ln_A2)\n",
    "\n",
    "\n",
    "#     v_rel_unit1 = relative_velocity_unit_vector(v1, v_com)\n",
    "#     v_rel_unit2 = relative_velocity_unit_vector(v2, v_com)\n",
    "\n",
    "\n",
    "#     F_D1_vector = dynamical_friction_force_vector(F_D1, v_rel_unit1)\n",
    "#     F_D2_vector = dynamical_friction_force_vector(F_D2, v_rel_unit2)\n",
    "\n",
    "\n",
    "#     F_D1_vector = F_D1_vector.to((u.kg * u.m) / (u.s**2))\n",
    "#     F_D2_vector = F_D2_vector.to((u.kg * u.m) / (u.s**2))\n",
    "\n",
    "\n",
    "#     a_D1 = dynamical_friction_acceleration(F_D1_vector, m1)\n",
    "#     a_D2 = dynamical_friction_acceleration(F_D2_vector, m2)\n",
    "\n",
    "#     return a_D1, a_D2, F_D1, F_D2\n",
    "# v1, v2, r1, r2 = update_velocities(v1, v2, delta_t, 0, 0, r1, r2, r_com, m1, m2, m_gal, v_com)\n",
    "\n",
    "\n",
    "# a_D1, a_D2, F_D1, F_D2 = compute_dynamical_friction(r1, r2, r_com, m1, m2, m_gal, v1, v2, v_com)\n",
    "\n",
    "\n",
    "# print(\"Updated velocities:\", v1, v2)\n",
    "# print(\"Updated positions:\", r1, r2)\n",
    "# print(\"Dynamical friction accelerations:\", a_D1, a_D2)"
   ]
  },
  {
   "cell_type": "code",
   "execution_count": 16,
   "metadata": {},
   "outputs": [
    {
     "name": "stdout",
     "output_type": "stream",
     "text": [
      "Initial conditions:\n",
      " • Position: [215.   0.   0.] pc [-215.    0.    0.] pc\n",
      " • Velocity: [-72. 102.   0.] km / s [  72. -102.    0.] km / s\n"
     ]
    }
   ],
   "source": [
    "# region Code 1: IC's\n",
    "\n",
    "G = const.G\n",
    "m_gal = 1e11 * const.M_sun\n",
    "#Masses\n",
    "m1=4e8 * const.M_sun #mass of black hole A \n",
    "m2=4e8 * const.M_sun #mass of black hole B\n",
    "\n",
    "#r_i has a separation of 430 pc\n",
    "sep = 430*u.pc\n",
    "r1_initial=[((sep/2.).value),0,0] * u.pc\n",
    "r2_initial=[-((sep/2.).value),0,0] * u.pc\n",
    "#To arrays\n",
    "r1=np.array(r1_initial,dtype=\"float64\") * u.pc\n",
    "r2=np.array(r2_initial,dtype=\"float64\") * u.pc\n",
    "#COM\n",
    "r_com=(m1*r1+m2*r2)/(m1+m2) \n",
    "\n",
    "# orb_v = (np.sqrt(const.G*(m1+m2)/a)).to(u.km/u.s) #added with Kris' source\n",
    "#V_i\n",
    "v1_initial=[-72,102, 0] *u.km/u.s\n",
    "v2_inital=[72,-102,0] *u.km/u.s #km/s\n",
    "\n",
    "#To arrays\n",
    "v1=np.array(v1_initial,dtype=\"float64\") *u.km/u.s\n",
    "v2=np.array(v2_inital,dtype=\"float64\") *u.km/u.s\n",
    "#Find velocity of COM\n",
    "v_com=(m1*v1+m2*v2)/(m1+m2)\n",
    "\n",
    "r = np.linalg.norm(r1 - r2) #separation between the two black holes (the magnitude of that)\n",
    "# endregion\n",
    "print(f'Initial conditions:\\n • Position: {r1} {r2}\\n • Velocity: {v1} {v2}')"
   ]
  },
  {
   "cell_type": "code",
   "execution_count": 17,
   "metadata": {},
   "outputs": [
    {
     "name": "stdout",
     "output_type": "stream",
     "text": [
      "ln_A1: 0.6906173797913483, ln_A2: 0.6906173797913483\n",
      "This system has a effective radius of 2817.228128763235 pc and an initial separation of\n",
      "215.0 pc\n",
      "and a dynamical hardening radius of 11.268912515052937 pc or 11.268912515052937 pc (looking at both masses and see for diff)\n",
      "(final radius is 81.5361082035837 pc), and it will be done with a total time of 12.596880855045313 Myr\n"
     ]
    }
   ],
   "source": [
    "a = semimajor_axis(r1, r2)\n",
    "o = sigma(m_gal)\n",
    "dist1 = distance_to_com(r1, r_com)\n",
    "dist2 = distance_to_com(r2, r_com)\n",
    "ln_A1 = coulomb_log(dist1, o, G, m1)\n",
    "ln_A2 = coulomb_log(dist2, o, G, m2)\n",
    "print(f'ln_A1: {ln_A1}, ln_A2: {ln_A2}')\n",
    "r_eff = find_reff(m_gal)\n",
    "r_dyn_hard = find_dyn_hard_radius(m1, m_gal, r_eff)\n",
    "r_dyn_hard2 = find_dyn_hard_radius(m2, m_gal, r_eff)\n",
    "final_radius = BT_dyn_hard_radius(m1, m2, o)\n",
    "dyn_time = dyn_timescale(m1, o, a, ln_A1)\n",
    "print(f'This system has a effective radius of {r_eff.to(u.pc)} and an initial separation of\\n{a}')\n",
    "print(f'and a dynamical hardening radius of {r_dyn_hard} or {r_dyn_hard2} (looking at both masses and see for diff)')\n",
    "print(f'(final radius is {final_radius}), and it will be done with a total time of {dyn_time}')"
   ]
  },
  {
   "cell_type": "markdown",
   "metadata": {},
   "source": [
    "Init df_accel?"
   ]
  },
  {
   "cell_type": "code",
   "execution_count": 18,
   "metadata": {},
   "outputs": [
    {
     "name": "stdout",
     "output_type": "stream",
     "text": [
      "The initial force on black hole 1 is [ 1.63522714e+29 -2.31657178e+29  0.00000000e+00] kg m / s2 and the acceleration is [ 2.05594828e-13 -2.91259340e-13  0.00000000e+00] km / s2\n"
     ]
    }
   ],
   "source": [
    "df_force1 = DF_force(ln_A1, m1, m_gal, r1, r_com, v2, v1, G) * u.kg * u.m / u.s**2\n",
    "df_force2 = DF_force(ln_A2, m2, m_gal, r2, r_com, v1, v2, G) * u.kg * u.m / u.s**2\n",
    "    \n",
    "\n",
    "df_accel1 = (df_force1 / m1).to(u.km / u.s**2)\n",
    "df_accel2 = (df_force2 / m2).to(u.km / u.s**2)\n",
    "    \n",
    "print(f'The initial force on black hole 1 is {df_force1} and the acceleration is {df_accel1}')"
   ]
  },
  {
   "cell_type": "markdown",
   "metadata": {},
   "source": [
    "Now, we will run with odeint"
   ]
  },
  {
   "cell_type": "code",
   "execution_count": 19,
   "metadata": {},
   "outputs": [
    {
     "name": "stdout",
     "output_type": "stream",
     "text": [
      "0.0012596880855045313 Myr\n"
     ]
    },
    {
     "ename": "UnitConversionError",
     "evalue": "'km / s2' (acceleration) and 'km / s' (speed/velocity) are not convertible",
     "output_type": "error",
     "traceback": [
      "\u001b[0;31m---------------------------------------------------------------------------\u001b[0m",
      "\u001b[0;31mUnitConversionError\u001b[0m                       Traceback (most recent call last)",
      "\u001b[0;32m~/opt/anaconda3/lib/python3.10/site-packages/astropy/units/quantity.py\u001b[0m in \u001b[0;36mto_value\u001b[0;34m(self, unit, equivalencies)\u001b[0m\n\u001b[1;32m    986\u001b[0m             \u001b[0;32mtry\u001b[0m\u001b[0;34m:\u001b[0m\u001b[0;34m\u001b[0m\u001b[0;34m\u001b[0m\u001b[0m\n\u001b[0;32m--> 987\u001b[0;31m                 \u001b[0mscale\u001b[0m \u001b[0;34m=\u001b[0m \u001b[0mself\u001b[0m\u001b[0;34m.\u001b[0m\u001b[0munit\u001b[0m\u001b[0;34m.\u001b[0m\u001b[0m_to\u001b[0m\u001b[0;34m(\u001b[0m\u001b[0munit\u001b[0m\u001b[0;34m)\u001b[0m\u001b[0;34m\u001b[0m\u001b[0;34m\u001b[0m\u001b[0m\n\u001b[0m\u001b[1;32m    988\u001b[0m             \u001b[0;32mexcept\u001b[0m \u001b[0mException\u001b[0m\u001b[0;34m:\u001b[0m\u001b[0;34m\u001b[0m\u001b[0;34m\u001b[0m\u001b[0m\n",
      "\u001b[0;32m~/opt/anaconda3/lib/python3.10/site-packages/astropy/units/core.py\u001b[0m in \u001b[0;36m_to\u001b[0;34m(self, other)\u001b[0m\n\u001b[1;32m   1190\u001b[0m \u001b[0;34m\u001b[0m\u001b[0m\n\u001b[0;32m-> 1191\u001b[0;31m         \u001b[0;32mraise\u001b[0m \u001b[0mUnitConversionError\u001b[0m\u001b[0;34m(\u001b[0m\u001b[0;34mf\"'{self!r}' is not a scaled version of '{other!r}'\"\u001b[0m\u001b[0;34m)\u001b[0m\u001b[0;34m\u001b[0m\u001b[0;34m\u001b[0m\u001b[0m\n\u001b[0m\u001b[1;32m   1192\u001b[0m \u001b[0;34m\u001b[0m\u001b[0m\n",
      "\u001b[0;31mUnitConversionError\u001b[0m: 'Unit(\"km / s2\")' is not a scaled version of 'Unit(\"km / s\")'",
      "\nDuring handling of the above exception, another exception occurred:\n",
      "\u001b[0;31mUnitConversionError\u001b[0m                       Traceback (most recent call last)",
      "\u001b[0;32m/var/folders/rf/799sdl_537nf32dnhw741jq80000gn/T/ipykernel_52378/2682177954.py\u001b[0m in \u001b[0;36m<module>\u001b[0;34m\u001b[0m\n\u001b[1;32m      7\u001b[0m \u001b[0mtime_span\u001b[0m \u001b[0;34m=\u001b[0m \u001b[0mnp\u001b[0m\u001b[0;34m.\u001b[0m\u001b[0mlinspace\u001b[0m\u001b[0;34m(\u001b[0m\u001b[0;36m0\u001b[0m\u001b[0;34m,\u001b[0m \u001b[0mT\u001b[0m\u001b[0;34m,\u001b[0m \u001b[0mN\u001b[0m\u001b[0;34m)\u001b[0m\u001b[0;34m\u001b[0m\u001b[0;34m\u001b[0m\u001b[0m\n\u001b[1;32m      8\u001b[0m \u001b[0;31m# region code 2: ODE\u001b[0m\u001b[0;34m\u001b[0m\u001b[0;34m\u001b[0m\u001b[0m\n\u001b[0;32m----> 9\u001b[0;31m \u001b[0mtwo_body_sol\u001b[0m \u001b[0;34m=\u001b[0m \u001b[0msci\u001b[0m\u001b[0;34m.\u001b[0m\u001b[0mintegrate\u001b[0m\u001b[0;34m.\u001b[0m\u001b[0modeint\u001b[0m\u001b[0;34m(\u001b[0m\u001b[0mtwobodyeqn\u001b[0m\u001b[0;34m,\u001b[0m \u001b[0minit_params\u001b[0m\u001b[0;34m,\u001b[0m \u001b[0mtime_span\u001b[0m\u001b[0;34m,\u001b[0m \u001b[0margs\u001b[0m\u001b[0;34m=\u001b[0m\u001b[0;34m(\u001b[0m\u001b[0mG\u001b[0m\u001b[0;34m,\u001b[0m \u001b[0mm1\u001b[0m\u001b[0;34m,\u001b[0m \u001b[0mm2\u001b[0m\u001b[0;34m,\u001b[0m \u001b[0mm_gal\u001b[0m\u001b[0;34m,\u001b[0m \u001b[0mr_com\u001b[0m\u001b[0;34m,\u001b[0m \u001b[0mr\u001b[0m\u001b[0;34m)\u001b[0m\u001b[0;34m)\u001b[0m\u001b[0;34m\u001b[0m\u001b[0;34m\u001b[0m\u001b[0m\n\u001b[0m\u001b[1;32m     10\u001b[0m \u001b[0mr1_sol\u001b[0m \u001b[0;34m=\u001b[0m \u001b[0mtwo_body_sol\u001b[0m\u001b[0;34m[\u001b[0m\u001b[0;34m:\u001b[0m\u001b[0;34m,\u001b[0m \u001b[0;34m:\u001b[0m\u001b[0;36m3\u001b[0m\u001b[0;34m]\u001b[0m\u001b[0;34m\u001b[0m\u001b[0;34m\u001b[0m\u001b[0m\n\u001b[1;32m     11\u001b[0m \u001b[0mr2_sol\u001b[0m \u001b[0;34m=\u001b[0m \u001b[0mtwo_body_sol\u001b[0m\u001b[0;34m[\u001b[0m\u001b[0;34m:\u001b[0m\u001b[0;34m,\u001b[0m \u001b[0;36m3\u001b[0m\u001b[0;34m:\u001b[0m\u001b[0;36m6\u001b[0m\u001b[0;34m]\u001b[0m\u001b[0;34m\u001b[0m\u001b[0;34m\u001b[0m\u001b[0m\n",
      "\u001b[0;32m~/opt/anaconda3/lib/python3.10/site-packages/scipy/integrate/_odepack_py.py\u001b[0m in \u001b[0;36modeint\u001b[0;34m(func, y0, t, args, Dfun, col_deriv, full_output, ml, mu, rtol, atol, tcrit, h0, hmax, hmin, ixpr, mxstep, mxhnil, mxordn, mxords, printmessg, tfirst)\u001b[0m\n\u001b[1;32m    239\u001b[0m     \u001b[0mt\u001b[0m \u001b[0;34m=\u001b[0m \u001b[0mcopy\u001b[0m\u001b[0;34m(\u001b[0m\u001b[0mt\u001b[0m\u001b[0;34m)\u001b[0m\u001b[0;34m\u001b[0m\u001b[0;34m\u001b[0m\u001b[0m\n\u001b[1;32m    240\u001b[0m     \u001b[0my0\u001b[0m \u001b[0;34m=\u001b[0m \u001b[0mcopy\u001b[0m\u001b[0;34m(\u001b[0m\u001b[0my0\u001b[0m\u001b[0;34m)\u001b[0m\u001b[0;34m\u001b[0m\u001b[0;34m\u001b[0m\u001b[0m\n\u001b[0;32m--> 241\u001b[0;31m     output = _odepack.odeint(func, y0, t, args, Dfun, col_deriv, ml, mu,\n\u001b[0m\u001b[1;32m    242\u001b[0m                              \u001b[0mfull_output\u001b[0m\u001b[0;34m,\u001b[0m \u001b[0mrtol\u001b[0m\u001b[0;34m,\u001b[0m \u001b[0matol\u001b[0m\u001b[0;34m,\u001b[0m \u001b[0mtcrit\u001b[0m\u001b[0;34m,\u001b[0m \u001b[0mh0\u001b[0m\u001b[0;34m,\u001b[0m \u001b[0mhmax\u001b[0m\u001b[0;34m,\u001b[0m \u001b[0mhmin\u001b[0m\u001b[0;34m,\u001b[0m\u001b[0;34m\u001b[0m\u001b[0;34m\u001b[0m\u001b[0m\n\u001b[1;32m    243\u001b[0m                              \u001b[0mixpr\u001b[0m\u001b[0;34m,\u001b[0m \u001b[0mmxstep\u001b[0m\u001b[0;34m,\u001b[0m \u001b[0mmxhnil\u001b[0m\u001b[0;34m,\u001b[0m \u001b[0mmxordn\u001b[0m\u001b[0;34m,\u001b[0m \u001b[0mmxords\u001b[0m\u001b[0;34m,\u001b[0m\u001b[0;34m\u001b[0m\u001b[0;34m\u001b[0m\u001b[0m\n",
      "\u001b[0;32m/var/folders/rf/799sdl_537nf32dnhw741jq80000gn/T/ipykernel_52378/704059630.py\u001b[0m in \u001b[0;36mtwobodyeqn\u001b[0;34m(w, t, G_, m1_, m2_, m_gal_, rcom_, r_, b_)\u001b[0m\n\u001b[1;32m     81\u001b[0m \u001b[0;34m\u001b[0m\u001b[0m\n\u001b[1;32m     82\u001b[0m     \u001b[0mr_derivs\u001b[0m \u001b[0;34m=\u001b[0m \u001b[0mnp\u001b[0m\u001b[0;34m.\u001b[0m\u001b[0mconcatenate\u001b[0m\u001b[0;34m(\u001b[0m\u001b[0;34m(\u001b[0m\u001b[0mdr1bydt\u001b[0m\u001b[0;34m,\u001b[0m \u001b[0mdr2bydt\u001b[0m\u001b[0;34m)\u001b[0m\u001b[0;34m)\u001b[0m\u001b[0;34m\u001b[0m\u001b[0;34m\u001b[0m\u001b[0m\n\u001b[0;32m---> 83\u001b[0;31m     \u001b[0mderivs\u001b[0m \u001b[0;34m=\u001b[0m \u001b[0mnp\u001b[0m\u001b[0;34m.\u001b[0m\u001b[0mconcatenate\u001b[0m\u001b[0;34m(\u001b[0m\u001b[0;34m(\u001b[0m\u001b[0mr_derivs\u001b[0m\u001b[0;34m,\u001b[0m \u001b[0mdv1bydt\u001b[0m\u001b[0;34m,\u001b[0m \u001b[0mdv2bydt\u001b[0m\u001b[0;34m)\u001b[0m\u001b[0;34m)\u001b[0m\u001b[0;34m\u001b[0m\u001b[0;34m\u001b[0m\u001b[0m\n\u001b[0m\u001b[1;32m     84\u001b[0m \u001b[0;34m\u001b[0m\u001b[0m\n\u001b[1;32m     85\u001b[0m \u001b[0;34m\u001b[0m\u001b[0m\n",
      "\u001b[0;32m~/opt/anaconda3/lib/python3.10/site-packages/numpy/core/overrides.py\u001b[0m in \u001b[0;36mconcatenate\u001b[0;34m(*args, **kwargs)\u001b[0m\n",
      "\u001b[0;32m~/opt/anaconda3/lib/python3.10/site-packages/astropy/units/quantity.py\u001b[0m in \u001b[0;36m__array_function__\u001b[0;34m(self, function, types, args, kwargs)\u001b[0m\n\u001b[1;32m   1859\u001b[0m             \u001b[0mfunction_helper\u001b[0m \u001b[0;34m=\u001b[0m \u001b[0mFUNCTION_HELPERS\u001b[0m\u001b[0;34m[\u001b[0m\u001b[0mfunction\u001b[0m\u001b[0;34m]\u001b[0m\u001b[0;34m\u001b[0m\u001b[0;34m\u001b[0m\u001b[0m\n\u001b[1;32m   1860\u001b[0m             \u001b[0;32mtry\u001b[0m\u001b[0;34m:\u001b[0m\u001b[0;34m\u001b[0m\u001b[0;34m\u001b[0m\u001b[0m\n\u001b[0;32m-> 1861\u001b[0;31m                 \u001b[0margs\u001b[0m\u001b[0;34m,\u001b[0m \u001b[0mkwargs\u001b[0m\u001b[0;34m,\u001b[0m \u001b[0munit\u001b[0m\u001b[0;34m,\u001b[0m \u001b[0mout\u001b[0m \u001b[0;34m=\u001b[0m \u001b[0mfunction_helper\u001b[0m\u001b[0;34m(\u001b[0m\u001b[0;34m*\u001b[0m\u001b[0margs\u001b[0m\u001b[0;34m,\u001b[0m \u001b[0;34m**\u001b[0m\u001b[0mkwargs\u001b[0m\u001b[0;34m)\u001b[0m\u001b[0;34m\u001b[0m\u001b[0;34m\u001b[0m\u001b[0m\n\u001b[0m\u001b[1;32m   1862\u001b[0m             \u001b[0;32mexcept\u001b[0m \u001b[0mNotImplementedError\u001b[0m\u001b[0;34m:\u001b[0m\u001b[0;34m\u001b[0m\u001b[0;34m\u001b[0m\u001b[0m\n\u001b[1;32m   1863\u001b[0m                 \u001b[0;32mreturn\u001b[0m \u001b[0mself\u001b[0m\u001b[0;34m.\u001b[0m\u001b[0m_not_implemented_or_raise\u001b[0m\u001b[0;34m(\u001b[0m\u001b[0mfunction\u001b[0m\u001b[0;34m,\u001b[0m \u001b[0mtypes\u001b[0m\u001b[0;34m)\u001b[0m\u001b[0;34m\u001b[0m\u001b[0;34m\u001b[0m\u001b[0m\n",
      "\u001b[0;32m~/opt/anaconda3/lib/python3.10/site-packages/astropy/units/quantity_helper/function_helpers.py\u001b[0m in \u001b[0;36mconcatenate\u001b[0;34m(arrays, axis, out, **kwargs)\u001b[0m\n\u001b[1;32m    427\u001b[0m     \u001b[0;31m# TODO: make this smarter by creating an appropriately shaped\u001b[0m\u001b[0;34m\u001b[0m\u001b[0;34m\u001b[0m\u001b[0m\n\u001b[1;32m    428\u001b[0m     \u001b[0;31m# empty output array and just filling it.\u001b[0m\u001b[0;34m\u001b[0m\u001b[0;34m\u001b[0m\u001b[0m\n\u001b[0;32m--> 429\u001b[0;31m     \u001b[0marrays\u001b[0m\u001b[0;34m,\u001b[0m \u001b[0mkwargs\u001b[0m\u001b[0;34m,\u001b[0m \u001b[0munit\u001b[0m\u001b[0;34m,\u001b[0m \u001b[0mout\u001b[0m \u001b[0;34m=\u001b[0m \u001b[0m_iterable_helper\u001b[0m\u001b[0;34m(\u001b[0m\u001b[0;34m*\u001b[0m\u001b[0marrays\u001b[0m\u001b[0;34m,\u001b[0m \u001b[0mout\u001b[0m\u001b[0;34m=\u001b[0m\u001b[0mout\u001b[0m\u001b[0;34m,\u001b[0m \u001b[0maxis\u001b[0m\u001b[0;34m=\u001b[0m\u001b[0maxis\u001b[0m\u001b[0;34m,\u001b[0m \u001b[0;34m**\u001b[0m\u001b[0mkwargs\u001b[0m\u001b[0;34m)\u001b[0m\u001b[0;34m\u001b[0m\u001b[0;34m\u001b[0m\u001b[0m\n\u001b[0m\u001b[1;32m    430\u001b[0m     \u001b[0;32mreturn\u001b[0m \u001b[0;34m(\u001b[0m\u001b[0marrays\u001b[0m\u001b[0;34m,\u001b[0m\u001b[0;34m)\u001b[0m\u001b[0;34m,\u001b[0m \u001b[0mkwargs\u001b[0m\u001b[0;34m,\u001b[0m \u001b[0munit\u001b[0m\u001b[0;34m,\u001b[0m \u001b[0mout\u001b[0m\u001b[0;34m\u001b[0m\u001b[0;34m\u001b[0m\u001b[0m\n\u001b[1;32m    431\u001b[0m \u001b[0;34m\u001b[0m\u001b[0m\n",
      "\u001b[0;32m~/opt/anaconda3/lib/python3.10/site-packages/astropy/units/quantity_helper/function_helpers.py\u001b[0m in \u001b[0;36m_iterable_helper\u001b[0;34m(out, *args, **kwargs)\u001b[0m\n\u001b[1;32m    419\u001b[0m             \u001b[0;32mraise\u001b[0m \u001b[0mNotImplementedError\u001b[0m\u001b[0;34m\u001b[0m\u001b[0;34m\u001b[0m\u001b[0m\n\u001b[1;32m    420\u001b[0m \u001b[0;34m\u001b[0m\u001b[0m\n\u001b[0;32m--> 421\u001b[0;31m     \u001b[0marrays\u001b[0m\u001b[0;34m,\u001b[0m \u001b[0munit\u001b[0m \u001b[0;34m=\u001b[0m \u001b[0m_quantities2arrays\u001b[0m\u001b[0;34m(\u001b[0m\u001b[0;34m*\u001b[0m\u001b[0margs\u001b[0m\u001b[0;34m)\u001b[0m\u001b[0;34m\u001b[0m\u001b[0;34m\u001b[0m\u001b[0m\n\u001b[0m\u001b[1;32m    422\u001b[0m     \u001b[0;32mreturn\u001b[0m \u001b[0marrays\u001b[0m\u001b[0;34m,\u001b[0m \u001b[0mkwargs\u001b[0m\u001b[0;34m,\u001b[0m \u001b[0munit\u001b[0m\u001b[0;34m,\u001b[0m \u001b[0mout\u001b[0m\u001b[0;34m\u001b[0m\u001b[0;34m\u001b[0m\u001b[0m\n\u001b[1;32m    423\u001b[0m \u001b[0;34m\u001b[0m\u001b[0m\n",
      "\u001b[0;32m~/opt/anaconda3/lib/python3.10/site-packages/astropy/units/quantity_helper/function_helpers.py\u001b[0m in \u001b[0;36m_quantities2arrays\u001b[0;34m(unit_from_first, *args)\u001b[0m\n\u001b[1;32m    400\u001b[0m     \u001b[0;31m# as we want to allow arbitrary unit for 0, inf, and nan.\u001b[0m\u001b[0;34m\u001b[0m\u001b[0;34m\u001b[0m\u001b[0m\n\u001b[1;32m    401\u001b[0m     \u001b[0;32mtry\u001b[0m\u001b[0;34m:\u001b[0m\u001b[0;34m\u001b[0m\u001b[0;34m\u001b[0m\u001b[0m\n\u001b[0;32m--> 402\u001b[0;31m         \u001b[0marrays\u001b[0m \u001b[0;34m=\u001b[0m \u001b[0mtuple\u001b[0m\u001b[0;34m(\u001b[0m\u001b[0;34m(\u001b[0m\u001b[0mq\u001b[0m\u001b[0;34m.\u001b[0m\u001b[0m_to_own_unit\u001b[0m\u001b[0;34m(\u001b[0m\u001b[0marg\u001b[0m\u001b[0;34m)\u001b[0m\u001b[0;34m)\u001b[0m \u001b[0;32mfor\u001b[0m \u001b[0marg\u001b[0m \u001b[0;32min\u001b[0m \u001b[0margs\u001b[0m\u001b[0;34m)\u001b[0m\u001b[0;34m\u001b[0m\u001b[0;34m\u001b[0m\u001b[0m\n\u001b[0m\u001b[1;32m    403\u001b[0m     \u001b[0;32mexcept\u001b[0m \u001b[0mTypeError\u001b[0m\u001b[0;34m:\u001b[0m\u001b[0;34m\u001b[0m\u001b[0;34m\u001b[0m\u001b[0m\n\u001b[1;32m    404\u001b[0m         \u001b[0;32mraise\u001b[0m \u001b[0mNotImplementedError\u001b[0m\u001b[0;34m\u001b[0m\u001b[0;34m\u001b[0m\u001b[0m\n",
      "\u001b[0;32m~/opt/anaconda3/lib/python3.10/site-packages/astropy/units/quantity_helper/function_helpers.py\u001b[0m in \u001b[0;36m<genexpr>\u001b[0;34m(.0)\u001b[0m\n\u001b[1;32m    400\u001b[0m     \u001b[0;31m# as we want to allow arbitrary unit for 0, inf, and nan.\u001b[0m\u001b[0;34m\u001b[0m\u001b[0;34m\u001b[0m\u001b[0m\n\u001b[1;32m    401\u001b[0m     \u001b[0;32mtry\u001b[0m\u001b[0;34m:\u001b[0m\u001b[0;34m\u001b[0m\u001b[0;34m\u001b[0m\u001b[0m\n\u001b[0;32m--> 402\u001b[0;31m         \u001b[0marrays\u001b[0m \u001b[0;34m=\u001b[0m \u001b[0mtuple\u001b[0m\u001b[0;34m(\u001b[0m\u001b[0;34m(\u001b[0m\u001b[0mq\u001b[0m\u001b[0;34m.\u001b[0m\u001b[0m_to_own_unit\u001b[0m\u001b[0;34m(\u001b[0m\u001b[0marg\u001b[0m\u001b[0;34m)\u001b[0m\u001b[0;34m)\u001b[0m \u001b[0;32mfor\u001b[0m \u001b[0marg\u001b[0m \u001b[0;32min\u001b[0m \u001b[0margs\u001b[0m\u001b[0;34m)\u001b[0m\u001b[0;34m\u001b[0m\u001b[0;34m\u001b[0m\u001b[0m\n\u001b[0m\u001b[1;32m    403\u001b[0m     \u001b[0;32mexcept\u001b[0m \u001b[0mTypeError\u001b[0m\u001b[0;34m:\u001b[0m\u001b[0;34m\u001b[0m\u001b[0;34m\u001b[0m\u001b[0m\n\u001b[1;32m    404\u001b[0m         \u001b[0;32mraise\u001b[0m \u001b[0mNotImplementedError\u001b[0m\u001b[0;34m\u001b[0m\u001b[0;34m\u001b[0m\u001b[0m\n",
      "\u001b[0;32m~/opt/anaconda3/lib/python3.10/site-packages/astropy/units/quantity.py\u001b[0m in \u001b[0;36m_to_own_unit\u001b[0;34m(self, value, check_precision, unit)\u001b[0m\n\u001b[1;32m   1660\u001b[0m             \u001b[0munit\u001b[0m \u001b[0;34m=\u001b[0m \u001b[0mself\u001b[0m\u001b[0;34m.\u001b[0m\u001b[0munit\u001b[0m\u001b[0;34m\u001b[0m\u001b[0;34m\u001b[0m\u001b[0m\n\u001b[1;32m   1661\u001b[0m         \u001b[0;32mtry\u001b[0m\u001b[0;34m:\u001b[0m\u001b[0;34m\u001b[0m\u001b[0;34m\u001b[0m\u001b[0m\n\u001b[0;32m-> 1662\u001b[0;31m             \u001b[0m_value\u001b[0m \u001b[0;34m=\u001b[0m \u001b[0mvalue\u001b[0m\u001b[0;34m.\u001b[0m\u001b[0mto_value\u001b[0m\u001b[0;34m(\u001b[0m\u001b[0munit\u001b[0m\u001b[0;34m)\u001b[0m\u001b[0;34m\u001b[0m\u001b[0;34m\u001b[0m\u001b[0m\n\u001b[0m\u001b[1;32m   1663\u001b[0m         \u001b[0;32mexcept\u001b[0m \u001b[0mAttributeError\u001b[0m\u001b[0;34m:\u001b[0m\u001b[0;34m\u001b[0m\u001b[0;34m\u001b[0m\u001b[0m\n\u001b[1;32m   1664\u001b[0m             \u001b[0;31m# We're not a Quantity.\u001b[0m\u001b[0;34m\u001b[0m\u001b[0;34m\u001b[0m\u001b[0m\n",
      "\u001b[0;32m~/opt/anaconda3/lib/python3.10/site-packages/astropy/units/quantity.py\u001b[0m in \u001b[0;36mto_value\u001b[0;34m(self, unit, equivalencies)\u001b[0m\n\u001b[1;32m    988\u001b[0m             \u001b[0;32mexcept\u001b[0m \u001b[0mException\u001b[0m\u001b[0;34m:\u001b[0m\u001b[0;34m\u001b[0m\u001b[0;34m\u001b[0m\u001b[0m\n\u001b[1;32m    989\u001b[0m                 \u001b[0;31m# Short-cut failed; try default (maybe equivalencies help).\u001b[0m\u001b[0;34m\u001b[0m\u001b[0;34m\u001b[0m\u001b[0m\n\u001b[0;32m--> 990\u001b[0;31m                 \u001b[0mvalue\u001b[0m \u001b[0;34m=\u001b[0m \u001b[0mself\u001b[0m\u001b[0;34m.\u001b[0m\u001b[0m_to_value\u001b[0m\u001b[0;34m(\u001b[0m\u001b[0munit\u001b[0m\u001b[0;34m,\u001b[0m \u001b[0mequivalencies\u001b[0m\u001b[0;34m)\u001b[0m\u001b[0;34m\u001b[0m\u001b[0;34m\u001b[0m\u001b[0m\n\u001b[0m\u001b[1;32m    991\u001b[0m             \u001b[0;32melse\u001b[0m\u001b[0;34m:\u001b[0m\u001b[0;34m\u001b[0m\u001b[0;34m\u001b[0m\u001b[0m\n\u001b[1;32m    992\u001b[0m                 \u001b[0mvalue\u001b[0m \u001b[0;34m=\u001b[0m \u001b[0mself\u001b[0m\u001b[0;34m.\u001b[0m\u001b[0mview\u001b[0m\u001b[0;34m(\u001b[0m\u001b[0mnp\u001b[0m\u001b[0;34m.\u001b[0m\u001b[0mndarray\u001b[0m\u001b[0;34m)\u001b[0m\u001b[0;34m\u001b[0m\u001b[0;34m\u001b[0m\u001b[0m\n",
      "\u001b[0;32m~/opt/anaconda3/lib/python3.10/site-packages/astropy/units/quantity.py\u001b[0m in \u001b[0;36m_to_value\u001b[0;34m(self, unit, equivalencies)\u001b[0m\n\u001b[1;32m    894\u001b[0m         \u001b[0;32mif\u001b[0m \u001b[0;32mnot\u001b[0m \u001b[0mself\u001b[0m\u001b[0;34m.\u001b[0m\u001b[0mdtype\u001b[0m\u001b[0;34m.\u001b[0m\u001b[0mnames\u001b[0m \u001b[0;32mor\u001b[0m \u001b[0misinstance\u001b[0m\u001b[0;34m(\u001b[0m\u001b[0mself\u001b[0m\u001b[0;34m.\u001b[0m\u001b[0munit\u001b[0m\u001b[0;34m,\u001b[0m \u001b[0mStructuredUnit\u001b[0m\u001b[0;34m)\u001b[0m\u001b[0;34m:\u001b[0m\u001b[0;34m\u001b[0m\u001b[0;34m\u001b[0m\u001b[0m\n\u001b[1;32m    895\u001b[0m             \u001b[0;31m# Standard path, let unit to do work.\u001b[0m\u001b[0;34m\u001b[0m\u001b[0;34m\u001b[0m\u001b[0m\n\u001b[0;32m--> 896\u001b[0;31m             return self.unit.to(\n\u001b[0m\u001b[1;32m    897\u001b[0m                 \u001b[0munit\u001b[0m\u001b[0;34m,\u001b[0m \u001b[0mself\u001b[0m\u001b[0;34m.\u001b[0m\u001b[0mview\u001b[0m\u001b[0;34m(\u001b[0m\u001b[0mnp\u001b[0m\u001b[0;34m.\u001b[0m\u001b[0mndarray\u001b[0m\u001b[0;34m)\u001b[0m\u001b[0;34m,\u001b[0m \u001b[0mequivalencies\u001b[0m\u001b[0;34m=\u001b[0m\u001b[0mequivalencies\u001b[0m\u001b[0;34m\u001b[0m\u001b[0;34m\u001b[0m\u001b[0m\n\u001b[1;32m    898\u001b[0m             )\n",
      "\u001b[0;32m~/opt/anaconda3/lib/python3.10/site-packages/astropy/units/core.py\u001b[0m in \u001b[0;36mto\u001b[0;34m(self, other, value, equivalencies)\u001b[0m\n\u001b[1;32m   1225\u001b[0m             \u001b[0;32mreturn\u001b[0m \u001b[0mUNITY\u001b[0m\u001b[0;34m\u001b[0m\u001b[0;34m\u001b[0m\u001b[0m\n\u001b[1;32m   1226\u001b[0m         \u001b[0;32melse\u001b[0m\u001b[0;34m:\u001b[0m\u001b[0;34m\u001b[0m\u001b[0;34m\u001b[0m\u001b[0m\n\u001b[0;32m-> 1227\u001b[0;31m             \u001b[0;32mreturn\u001b[0m \u001b[0mself\u001b[0m\u001b[0;34m.\u001b[0m\u001b[0mget_converter\u001b[0m\u001b[0;34m(\u001b[0m\u001b[0mUnit\u001b[0m\u001b[0;34m(\u001b[0m\u001b[0mother\u001b[0m\u001b[0;34m)\u001b[0m\u001b[0;34m,\u001b[0m \u001b[0mequivalencies\u001b[0m\u001b[0;34m)\u001b[0m\u001b[0;34m(\u001b[0m\u001b[0mvalue\u001b[0m\u001b[0;34m)\u001b[0m\u001b[0;34m\u001b[0m\u001b[0;34m\u001b[0m\u001b[0m\n\u001b[0m\u001b[1;32m   1228\u001b[0m \u001b[0;34m\u001b[0m\u001b[0m\n\u001b[1;32m   1229\u001b[0m     \u001b[0;32mdef\u001b[0m \u001b[0min_units\u001b[0m\u001b[0;34m(\u001b[0m\u001b[0mself\u001b[0m\u001b[0;34m,\u001b[0m \u001b[0mother\u001b[0m\u001b[0;34m,\u001b[0m \u001b[0mvalue\u001b[0m\u001b[0;34m=\u001b[0m\u001b[0;36m1.0\u001b[0m\u001b[0;34m,\u001b[0m \u001b[0mequivalencies\u001b[0m\u001b[0;34m=\u001b[0m\u001b[0;34m[\u001b[0m\u001b[0;34m]\u001b[0m\u001b[0;34m)\u001b[0m\u001b[0;34m:\u001b[0m\u001b[0;34m\u001b[0m\u001b[0;34m\u001b[0m\u001b[0m\n",
      "\u001b[0;32m~/opt/anaconda3/lib/python3.10/site-packages/astropy/units/core.py\u001b[0m in \u001b[0;36mget_converter\u001b[0;34m(self, other, equivalencies)\u001b[0m\n\u001b[1;32m   1154\u001b[0m                             \u001b[0;32mreturn\u001b[0m \u001b[0;32mlambda\u001b[0m \u001b[0mv\u001b[0m\u001b[0;34m:\u001b[0m \u001b[0mb\u001b[0m\u001b[0;34m(\u001b[0m\u001b[0mconverter\u001b[0m\u001b[0;34m(\u001b[0m\u001b[0mv\u001b[0m\u001b[0;34m)\u001b[0m\u001b[0;34m)\u001b[0m\u001b[0;34m\u001b[0m\u001b[0;34m\u001b[0m\u001b[0m\n\u001b[1;32m   1155\u001b[0m \u001b[0;34m\u001b[0m\u001b[0m\n\u001b[0;32m-> 1156\u001b[0;31m             \u001b[0;32mraise\u001b[0m \u001b[0mexc\u001b[0m\u001b[0;34m\u001b[0m\u001b[0;34m\u001b[0m\u001b[0m\n\u001b[0m\u001b[1;32m   1157\u001b[0m \u001b[0;34m\u001b[0m\u001b[0m\n\u001b[1;32m   1158\u001b[0m     \u001b[0;32mdef\u001b[0m \u001b[0m_to\u001b[0m\u001b[0;34m(\u001b[0m\u001b[0mself\u001b[0m\u001b[0;34m,\u001b[0m \u001b[0mother\u001b[0m\u001b[0;34m)\u001b[0m\u001b[0;34m:\u001b[0m\u001b[0;34m\u001b[0m\u001b[0;34m\u001b[0m\u001b[0m\n",
      "\u001b[0;32m~/opt/anaconda3/lib/python3.10/site-packages/astropy/units/core.py\u001b[0m in \u001b[0;36mget_converter\u001b[0;34m(self, other, equivalencies)\u001b[0m\n\u001b[1;32m   1137\u001b[0m         \u001b[0;31m# if that doesn't work, maybe we can do it with equivalencies?\u001b[0m\u001b[0;34m\u001b[0m\u001b[0;34m\u001b[0m\u001b[0m\n\u001b[1;32m   1138\u001b[0m         \u001b[0;32mtry\u001b[0m\u001b[0;34m:\u001b[0m\u001b[0;34m\u001b[0m\u001b[0;34m\u001b[0m\u001b[0m\n\u001b[0;32m-> 1139\u001b[0;31m             return self._apply_equivalencies(\n\u001b[0m\u001b[1;32m   1140\u001b[0m                 \u001b[0mself\u001b[0m\u001b[0;34m,\u001b[0m \u001b[0mother\u001b[0m\u001b[0;34m,\u001b[0m \u001b[0mself\u001b[0m\u001b[0;34m.\u001b[0m\u001b[0m_normalize_equivalencies\u001b[0m\u001b[0;34m(\u001b[0m\u001b[0mequivalencies\u001b[0m\u001b[0;34m)\u001b[0m\u001b[0;34m\u001b[0m\u001b[0;34m\u001b[0m\u001b[0m\n\u001b[1;32m   1141\u001b[0m             )\n",
      "\u001b[0;32m~/opt/anaconda3/lib/python3.10/site-packages/astropy/units/core.py\u001b[0m in \u001b[0;36m_apply_equivalencies\u001b[0;34m(self, unit, other, equivalencies)\u001b[0m\n\u001b[1;32m   1088\u001b[0m         \u001b[0mother_str\u001b[0m \u001b[0;34m=\u001b[0m \u001b[0mget_err_str\u001b[0m\u001b[0;34m(\u001b[0m\u001b[0mother\u001b[0m\u001b[0;34m)\u001b[0m\u001b[0;34m\u001b[0m\u001b[0;34m\u001b[0m\u001b[0m\n\u001b[1;32m   1089\u001b[0m \u001b[0;34m\u001b[0m\u001b[0m\n\u001b[0;32m-> 1090\u001b[0;31m         \u001b[0;32mraise\u001b[0m \u001b[0mUnitConversionError\u001b[0m\u001b[0;34m(\u001b[0m\u001b[0;34mf\"{unit_str} and {other_str} are not convertible\"\u001b[0m\u001b[0;34m)\u001b[0m\u001b[0;34m\u001b[0m\u001b[0;34m\u001b[0m\u001b[0m\n\u001b[0m\u001b[1;32m   1091\u001b[0m \u001b[0;34m\u001b[0m\u001b[0m\n\u001b[1;32m   1092\u001b[0m     \u001b[0;32mdef\u001b[0m \u001b[0mget_converter\u001b[0m\u001b[0;34m(\u001b[0m\u001b[0mself\u001b[0m\u001b[0;34m,\u001b[0m \u001b[0mother\u001b[0m\u001b[0;34m,\u001b[0m \u001b[0mequivalencies\u001b[0m\u001b[0;34m=\u001b[0m\u001b[0;34m[\u001b[0m\u001b[0;34m]\u001b[0m\u001b[0;34m)\u001b[0m\u001b[0;34m:\u001b[0m\u001b[0;34m\u001b[0m\u001b[0;34m\u001b[0m\u001b[0m\n",
      "\u001b[0;31mUnitConversionError\u001b[0m: 'km / s2' (acceleration) and 'km / s' (speed/velocity) are not convertible"
     ]
    }
   ],
   "source": [
    "T = dyn_time\n",
    "N = 10000\n",
    "delta_t = T/N\n",
    "print(delta_t)\n",
    "init_params = np.array([r1, r2, v1, v2, df_accel1, df_accel2])\n",
    "init_params = init_params.flatten()\n",
    "time_span = np.linspace(0, T, N)\n",
    "# region code 2: ODE\n",
    "two_body_sol = sci.integrate.odeint(twobodyeqn, init_params, time_span, args=(G, m1, m2, m_gal, r_com, r))\n",
    "r1_sol = two_body_sol[:, :3]\n",
    "r2_sol = two_body_sol[:, 3:6]\n",
    "v1_sol = two_body_sol[:, 6:9]\n",
    "v2_sol = two_body_sol[:, 9:12]\n",
    "df_accel1_sol = two_body_sol[:, 12:15]\n",
    "df_accel2_sol = two_body_sol[:, 15:18]\n",
    "r_com_sol = (m1 * r1_sol + m2 * r2_sol) / (m1 + m2)\n",
    "r1com_sol = r1_sol - r_com_sol\n",
    "r2com_sol = r2_sol - r_com_sol\n",
    "# endregion\n",
    "\n",
    "print(df_accel1_sol)"
   ]
  },
  {
   "cell_type": "markdown",
   "metadata": {},
   "source": [
    "Now plotting this:"
   ]
  },
  {
   "cell_type": "code",
   "execution_count": null,
   "metadata": {},
   "outputs": [
    {
     "data": {
      "text/plain": [
       "[<matplotlib.lines.Line2D at 0x7fc54243c400>]"
      ]
     },
     "execution_count": 110,
     "metadata": {},
     "output_type": "execute_result"
    },
    {
     "data": {
      "image/png": "[encoded data removed]",
      "text/plain": [
       "<Figure size 640x480 with 1 Axes>"
      ]
     },
     "metadata": {},
     "output_type": "display_data"
    }
   ],
   "source": [
    "plt.plot(time_span, df_accel1_sol[:, 0], label='r1_x')"
   ]
  },
  {
   "cell_type": "code",
   "execution_count": null,
   "metadata": {},
   "outputs": [
    {
     "data": {
      "image/png": "[encoded data removed]",
      "text/plain": [
       "<Figure size 800x800 with 1 Axes>"
      ]
     },
     "metadata": {},
     "output_type": "display_data"
    }
   ],
   "source": [
    "fig = plt.figure(figsize=(8, 8))\n",
    "ax = fig.add_subplot(111)  # No projection='3d' for 2D plot\n",
    "\n",
    "ax.plot(r1_sol[:, 0], r1_sol[:, 1], label=\"Orbit of BH A\", color=\"blue\")\n",
    "ax.plot(r2_sol[:, 0], r2_sol[:, 1], label=\"Orbit of BH B\", color=\"red\")\n",
    "\n",
    "\n",
    "ax.set_xlabel('X (pc)')\n",
    "ax.set_ylabel('Y (pc)')\n",
    "ax.set_title('2D Orbit of Binary Black Holes')\n",
    "\n",
    "\n",
    "ax.legend()\n",
    "\n",
    "\n",
    "initial_conditions_text = (\n",
    "    f\"Initial Conditions:\\n\"\n",
    "    f\"BH A: Position: {r1_initial}, Velocity: {v1_initial}\\n\"\n",
    "    f\"BH B: Position: {r2_initial}, Velocity: {v2_inital}\\n\"\n",
    "    f\"Time: 0 to {T}\"\n",
    ")\n",
    "fig.text(0.5, 0.4, initial_conditions_text, fontsize=10, bbox=dict(boxstyle=\"round\", facecolor=\"lightgray\", alpha=0.5))\n",
    "\n",
    "# Show the plot\n",
    "plt.show()"
   ]
  },
  {
   "cell_type": "code",
   "execution_count": null,
   "metadata": {},
   "outputs": [],
   "source": []
  },
  {
   "cell_type": "code",
   "execution_count": null,
   "metadata": {},
   "outputs": [],
   "source": []
  }
 ],
 "metadata": {
  "kernelspec": {
   "display_name": "base",
   "language": "python",
   "name": "python3"
  },
  "language_info": {
   "codemirror_mode": {
    "name": "ipython",
    "version": 3
   },
   "file_extension": ".py",
   "mimetype": "text/x-python",
   "name": "python",
   "nbconvert_exporter": "python",
   "pygments_lexer": "ipython3",
   "version": "3.10.6"
  }
 },
 "nbformat": 4,
 "nbformat_minor": 2
}
