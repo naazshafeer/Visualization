{
 "cells": [
  {
   "cell_type": "markdown",
   "metadata": {},
   "source": [
    "This is the first of the trials of implementing data frames and storing data to run more plots in efficient time"
   ]
  },
  {
   "cell_type": "code",
   "execution_count": 197,
   "metadata": {},
   "outputs": [],
   "source": [
    "import os\n",
    "import pickle as pkl\n",
    "import pandas as pd\n",
    "import numpy as np\n",
    "import matplotlib.pyplot as plt\n",
    "from mpl_toolkits.mplot3d import Axes3D\n",
    "import matplotlib.animation as animation\n",
    "import scipy as sci\n",
    "from scipy import integrate\n",
    "from scipy.integrate import odeint\n",
    "from astropy import units as u\n",
    "from mpl_toolkits.axes_grid1.inset_locator import inset_axes\n",
    "import astropy.constants as const\n",
    "import math"
   ]
  },
  {
   "cell_type": "code",
   "execution_count": 198,
   "metadata": {},
   "outputs": [],
   "source": [
    "plt.rcParams['font.family'] = 'Times New Roman'\n",
    "#this is to make the font of the plots to be Times New Roman"
   ]
  },
  {
   "cell_type": "markdown",
   "metadata": {},
   "source": [
    "Initial conditions"
   ]
  },
  {
   "cell_type": "markdown",
   "metadata": {},
   "source": [
    "Functions "
   ]
  },
  {
   "cell_type": "code",
   "execution_count": 199,
   "metadata": {},
   "outputs": [],
   "source": [
    "def semimajor_axis(r1_, r2_):\n",
    "    '''\n",
    "    This function calculated the semi-major axis. In this case, r=a\n",
    "    '''\n",
    "    return (np.linalg.norm(r2_ - r1_) / 2)\n",
    "def sigma(m_gal_):\n",
    "    '''\n",
    "    This function calculates the velocity dispersion of the galaxy\n",
    "    '''\n",
    "    return (10**(2.2969)*(m_gal_/ (10**(11) * const.M_sun))**(0.299)) * (u.km/u.s)\n",
    "def coulomb_log(a_, o_, G_, m_):\n",
    "\n",
    "    '''\n",
    "    Got this from implement df, making sure that both m1, and m2 can be used here\n",
    "    '''\n",
    "    x = (a_ * o_**(2)) / (G_ * m_)\n",
    "    return math.log10(x.to_value(u.dimensionless_unscaled))\n",
    "def DF_force(ln_A_, m_, r_choice_, rcom_, vfirst_, vsecond_, G_):\n",
    "    '''\n",
    "    Now we will only be looking at the force and then apply the acceleration later.\n",
    "    Also added first and second to make sure that the negative signs are applied correctly\n",
    "    '''\n",
    "\n",
    "    F_D = 0.428 * ln_A_ * ((G_ * m_**(2))/(np.linalg.norm(r_choice_ - rcom_))**(2))\n",
    "\n",
    "    v_r = vfirst_ - vsecond_\n",
    "\n",
    "    v_rmag = np.linalg.norm(v_r) \n",
    "\n",
    "    v_rel_unit = (v_r / v_rmag)\n",
    "\n",
    "    F_D_i = (F_D * v_rel_unit[0])\n",
    "    F_D_j = (F_D * v_rel_unit[1])\n",
    "    F_D_k = (F_D * v_rel_unit[2])\n",
    "    \n",
    "    # np.array([F_D_i.value, F_D_j.value, F_D_k.value])\n",
    "\n",
    "    return np.array([F_D_i.to((u.kg*u.m)/(u.s**2)).value, F_D_j.to((u.kg*u.m)/ (u.s**2)).value, F_D_k.to((u.kg*u.m)/ (u.s**2)).value])\n",
    "def twobodyeqn(w, t, G_, m1_, m2_, m_gal_, rcom_, r_, b_=1):\n",
    "    '''\n",
    "    I will try to make sure that this can be ran by odeint. To test efficiency. Also,\n",
    "    I would like to see if calling functions within other functions would make it run\n",
    "    '''\n",
    "    r1 = w[:3] * u.pc\n",
    "    r2 = w[3:6] * u.pc\n",
    "    v1 = w[6:9] * u.km / u.s\n",
    "    v2 = w[9:12] * u.km / u.s\n",
    "    df_accel1 = w[12:15] * u.km / u.s**2\n",
    "    df_accel2 = w[15:18] * u.km / u.s**2\n",
    "\n",
    "    r = np.linalg.norm(r2 - r1)  # Distance between the two black holes\n",
    "\n",
    "    a = semimajor_axis(r1, r2)\n",
    "    o = sigma(m_gal_)\n",
    "    ln_A1 = coulomb_log(a, o, G_, m_gal_)\n",
    "    ln_A2 = coulomb_log(a, o, G_, m_gal_)\n",
    "\n",
    "\n",
    "    df_force1 = DF_force(ln_A1, m1_, r1, rcom_, v2, v1, G_) * (u.kg * u.m / u.s**2)\n",
    "    df_force2 = DF_force(ln_A2, m2_, r2, rcom_, v1, v2, G_) * (u.kg * u.m / u.s**2)\n",
    "\n",
    "\n",
    "    df_accel1 = (df_force1 / m1_).to(u.km / u.s**2)\n",
    "    df_accel2 = (df_force2 / m2_).to(u.km / u.s**2)\n",
    "\n",
    "\n",
    "    dv1bydt = (G_ * m2_ * (r2 - r1) / r**3).to(u.km / u.s**2) \n",
    "    dv2bydt = (G_ * m1_ * (r1 - r2) / r**3).to(u.km / u.s**2) \n",
    "\n",
    "\n",
    "    dr1bydt = v1.to(u.km / u.s)\n",
    "    dr2bydt = v2.to(u.km / u.s)\n",
    "\n",
    "    derivs = np.concatenate([\n",
    "        dr1bydt.to(u.km / u.s).value, dr2bydt.to(u.km / u.s).value,\n",
    "        dv1bydt.to(u.km / u.s**2).value, dv2bydt.to(u.km / u.s**2).value,\n",
    "        df_accel1.to(u.km / u.s**2).value, df_accel2.to(u.km / u.s**2).value\n",
    "    ])\n",
    "\n",
    "    return derivs"
   ]
  },
  {
   "cell_type": "markdown",
   "metadata": {},
   "source": [
    "Kris' Equations from J1010 for DF checks"
   ]
  },
  {
   "cell_type": "code",
   "execution_count": 200,
   "metadata": {},
   "outputs": [],
   "source": [
    "def find_reff(Mgal_):\n",
    "    '''\n",
    "    Find effective radius for galaxy given mstar.\n",
    "    Uses Eq. 4 of Dabringhausen, Hilker \\& Kroupa (2008)\n",
    "    note: although this paper talks mostly about dwarfs,\n",
    "    they do find that this particular equation fits\n",
    "    massive ellipticals with M\\gtrsim 10^11 Msun well.\n",
    "    '''\n",
    "    a = 2.95 \n",
    "    b = 0.596\n",
    "    return (a*(Mgal_/(1.e6*u.Msun))**b)*u.pc\n",
    "def find_dyn_hard_radius(m_, mgal_, reff_):\n",
    "    '''\n",
    "    finds when stellar hardening takes over from\n",
    "    dynamical friction\n",
    "    uses Begelman+ (1980) Eq. in paragraph above Eq. 2\n",
    "    should use rcore and mstar in core instead of reff\n",
    "    and total mstar....that's why we don't actually use this.\n",
    "    '''\n",
    "    rb = (m_/mgal_)**(1./3.)*reff_\n",
    "    # print(\"Binary radius is:\", rb)\n",
    "    return ((rb/reff_)**3*reff_).to(u.pc) #two equations in kris' source?\n",
    "def BT_dyn_hard_radius(m1_,m2_, veldisp_):\n",
    "    '''\n",
    "    finds semi-major axis\n",
    "    when stellar hardening takes over from\n",
    "    dynamical friction\n",
    "    BT Eq. 8.19\n",
    "    '''\n",
    "    massterm = (m1_+m2_)/(10**8*u.Msun)\n",
    "    velterm = ((200*u.km/u.s)/veldisp_)**2\n",
    "    return (10*u.pc*massterm*velterm).to(u.pc)\n",
    "def dyn_timescale(m_, o_, a_, ln_A_):\n",
    "    \"\"\"\"\n",
    "    Finds the dynamical timescale.\n",
    "    Computed according to equation 8.12 in B&T\n",
    "    m_ is the secondary BH\n",
    "    sigma_ is the vel disp of the stars in the core\n",
    "    a_ is the initial semimajor axis\n",
    "    \"\"\"\n",
    "    prefactor = 19./ln_A_\n",
    "    aterm = (a_/(5.*u.kpc))**2\n",
    "    vterm = o_/(200*u.km/u.s)\n",
    "    mterm = (10**8*u.Msun/m_)\n",
    "    return (prefactor*aterm*vterm*mterm*u.Gyr).to(u.Myr)\n"
   ]
  },
  {
   "cell_type": "code",
   "execution_count": 201,
   "metadata": {},
   "outputs": [
    {
     "name": "stdout",
     "output_type": "stream",
     "text": [
      "Initial conditions:\n",
      " • Position: [215.   0.   0.] pc [-215.    0.    0.] pc\n",
      " • Velocity: [  0. 100.   0.] km / s [   0. -100.    0.] km / s\n"
     ]
    }
   ],
   "source": [
    "# region Code 1: IC's\n",
    "\n",
    "G = const.G\n",
    "m_gal = 2e11 * const.M_sun\n",
    "#Masses\n",
    "m1=4e8 * const.M_sun #mass of black hole A \n",
    "m2=4e8 * const.M_sun #mass of black hole B\n",
    "\n",
    "#r_i has a separation of 430 pc\n",
    "sep = 430*u.pc\n",
    "r1_initial=[((sep/2.).value),0,0] * u.pc\n",
    "r2_initial=[-((sep/2.).value),0,0] * u.pc\n",
    "#To arrays\n",
    "r1=np.array(r1_initial,dtype=\"float64\") * u.pc\n",
    "r2=np.array(r2_initial,dtype=\"float64\") * u.pc\n",
    "#COM\n",
    "r_com=(m1*r1+m2*r2)/(m1+m2) \n",
    "\n",
    "# orb_v = (np.sqrt(const.G*(m1+m2)/a)).to(u.km/u.s) #added with Kris' source\n",
    "#V_i\n",
    "v1_initial=[0,100, 0] *u.km/u.s\n",
    "v2_inital=[0,-100,0] *u.km/u.s #km/s\n",
    "\n",
    "#To arrays\n",
    "v1=np.array(v1_initial,dtype=\"float64\") *u.km/u.s\n",
    "v2=np.array(v2_inital,dtype=\"float64\") *u.km/u.s\n",
    "#Find velocity of COM\n",
    "v_com=(m1*v1+m2*v2)/(m1+m2)\n",
    "\n",
    "r = np.linalg.norm(r1 - r2) #separation between the two black holes (the magnitude of that)\n",
    "# endregion\n",
    "print(f'Initial conditions:\\n • Position: {r1} {r2}\\n • Velocity: {v1} {v2}')"
   ]
  },
  {
   "cell_type": "code",
   "execution_count": 202,
   "metadata": {},
   "outputs": [
    {
     "name": "stdout",
     "output_type": "stream",
     "text": [
      "This system has a effective radius of 4258.296459238662 pc and an initial separation of\n",
      "215.0 pc\n",
      "and a dynamical hardening radius of 8.516592918477325 pc or 8.516592918477325 pc (looking at both masses and see for diff)\n",
      "(final radius is 53.86839560865153 pc), and it will be done with a total time of 12.293433921819046 Myr\n"
     ]
    }
   ],
   "source": [
    "a = semimajor_axis(r1, r2)\n",
    "o = sigma(m_gal)\n",
    "ln_A1 = coulomb_log(a, o, G, m1)\n",
    "ln_A2 = coulomb_log(a, o, G, m2)\n",
    "r_eff = find_reff(m_gal)\n",
    "r_dyn_hard = find_dyn_hard_radius(m1, m_gal, r_eff)\n",
    "r_dyn_hard2 = find_dyn_hard_radius(m2, m_gal, r_eff)\n",
    "final_radius = BT_dyn_hard_radius(m1, m2, o)\n",
    "dyn_time = dyn_timescale(m1, o, a, ln_A1)\n",
    "print(f'This system has a effective radius of {r_eff.to(u.pc)} and an initial separation of\\n{a}')\n",
    "print(f'and a dynamical hardening radius of {r_dyn_hard} or {r_dyn_hard2} (looking at both masses and see for diff)')\n",
    "print(f'(final radius is {final_radius}), and it will be done with a total time of {dyn_time}')"
   ]
  },
  {
   "cell_type": "markdown",
   "metadata": {},
   "source": [
    "Init df_accel?"
   ]
  },
  {
   "cell_type": "code",
   "execution_count": 203,
   "metadata": {},
   "outputs": [
    {
     "name": "stdout",
     "output_type": "stream",
     "text": [
      "[ 0.00000000e+00 -3.57469151e+29  0.00000000e+00] kg m / s2\n",
      "The initial force on black hole 1 is [ 0.00000000e+00 -3.57469151e+29  0.00000000e+00] kg m / s2 and the acceleration is [ 0.00000000e+00 -4.49440978e-13  0.00000000e+00] km / s2\n"
     ]
    }
   ],
   "source": [
    "df_force1 = DF_force(ln_A1, m1, r1, r_com, v2, v1, G) * u.kg * u.m / (u.s**2)\n",
    "df_force2 = DF_force(ln_A2, m2, r2, r_com, v1, v2, G) * u.kg * u.m / (u.s**2)\n",
    "\n",
    "print(df_force1)\n",
    "df_accel1 = (df_force1 / m1).to(u.km/u.s**2)\n",
    "df_accel2 = (df_force2 / m2).to(u.km/u.s**2)\n",
    "print(f'The initial force on black hole 1 is {df_force1} and the acceleration is {df_accel1}')"
   ]
  },
  {
   "cell_type": "markdown",
   "metadata": {},
   "source": [
    "Now, we will run with odeint"
   ]
  },
  {
   "cell_type": "code",
   "execution_count": 204,
   "metadata": {},
   "outputs": [
    {
     "name": "stdout",
     "output_type": "stream",
     "text": [
      "0.0012293433921819047 Myr\n",
      "[[ 0.00000000e+00 -4.49440978e-13  0.00000000e+00]\n",
      " [-2.15094968e-33 -4.48280571e-13  0.00000000e+00]\n",
      " [-8.60379231e-33 -4.47120166e-13  0.00000000e+00]\n",
      " ...\n",
      " [-4.03015907e-27  1.03898982e-12  0.00000000e+00]\n",
      " [-4.03018863e-27  1.03899765e-12  0.00000000e+00]\n",
      " [-4.03021819e-27  1.03900548e-12  0.00000000e+00]]\n"
     ]
    }
   ],
   "source": [
    "T = dyn_time\n",
    "N = 10000\n",
    "delta_t = T/N\n",
    "print(delta_t)\n",
    "init_params = np.array([r1, r2, v1, v2, df_accel1, df_accel2])\n",
    "init_params = init_params.flatten()\n",
    "time_span = np.linspace(0, T, N)\n",
    "# region code 2: ODE\n",
    "two_body_sol = sci.integrate.odeint(twobodyeqn, init_params, time_span, args=(G, m1, m2, m_gal, r_com, r))\n",
    "r1_sol = two_body_sol[:, :3]\n",
    "r2_sol = two_body_sol[:, 3:6]\n",
    "v1_sol = two_body_sol[:, 6:9]\n",
    "v2_sol = two_body_sol[:, 9:12]\n",
    "df_accel1_sol = two_body_sol[:, 12:15]\n",
    "df_accel2_sol = two_body_sol[:, 15:18]\n",
    "r_com_sol = (m1 * r1_sol + m2 * r2_sol) / (m1 + m2)\n",
    "r1com_sol = r1_sol - r_com_sol\n",
    "r2com_sol = r2_sol - r_com_sol\n",
    "# endregion\n",
    "\n",
    "print(df_accel1_sol)"
   ]
  },
  {
   "cell_type": "markdown",
   "metadata": {},
   "source": [
    "Now plotting this:"
   ]
  },
  {
   "cell_type": "code",
   "execution_count": 205,
   "metadata": {},
   "outputs": [
    {
     "data": {
      "image/png": "[encoded data removed]",
      "text/plain": [
       "<Figure size 800x800 with 1 Axes>"
      ]
     },
     "metadata": {},
     "output_type": "display_data"
    }
   ],
   "source": [
    "fig = plt.figure(figsize=(8, 8))\n",
    "ax = fig.add_subplot(111)  # No projection='3d' for 2D plot\n",
    "\n",
    "ax.plot(r1_sol[:, 0], r1_sol[:, 1], label=\"Orbit of BH A\", color=\"blue\")\n",
    "ax.plot(r2_sol[:, 0], r2_sol[:, 1], label=\"Orbit of BH B\", color=\"red\")\n",
    "\n",
    "\n",
    "ax.set_xlabel('X (pc)')\n",
    "ax.set_ylabel('Y (pc)')\n",
    "ax.set_title('2D Orbit of Binary Black Holes')\n",
    "\n",
    "\n",
    "ax.legend()\n",
    "\n",
    "\n",
    "initial_conditions_text = (\n",
    "    f\"Initial Conditions:\\n\"\n",
    "    f\"BH A: Position: {r1_initial}, Velocity: {v1_initial}\\n\"\n",
    "    f\"BH B: Position: {r2_initial}, Velocity: {v2_inital}\\n\"\n",
    "    f\"Time: 0 to {T}\"\n",
    ")\n",
    "fig.text(0.5, 0.4, initial_conditions_text, fontsize=10, bbox=dict(boxstyle=\"round\", facecolor=\"lightgray\", alpha=0.5))\n",
    "\n",
    "# Show the plot\n",
    "plt.show()"
   ]
  },
  {
   "cell_type": "code",
   "execution_count": null,
   "metadata": {},
   "outputs": [],
   "source": []
  },
  {
   "cell_type": "code",
   "execution_count": null,
   "metadata": {},
   "outputs": [],
   "source": []
  }
 ],
 "metadata": {
  "kernelspec": {
   "display_name": "base",
   "language": "python",
   "name": "python3"
  },
  "language_info": {
   "codemirror_mode": {
    "name": "ipython",
    "version": 3
   },
   "file_extension": ".py",
   "mimetype": "text/x-python",
   "name": "python",
   "nbconvert_exporter": "python",
   "pygments_lexer": "ipython3",
   "version": "3.10.6"
  }
 },
 "nbformat": 4,
 "nbformat_minor": 2
}
