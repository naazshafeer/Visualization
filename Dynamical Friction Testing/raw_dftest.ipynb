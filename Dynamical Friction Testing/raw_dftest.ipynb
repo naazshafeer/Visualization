{
 "cells": [
  {
   "cell_type": "code",
   "execution_count": null,
   "metadata": {},
   "outputs": [],
   "source": [
    "!git config --global user.email \"naazshafeer@gmail.com\"\n",
    "!git config --global user.name \"Naaz Shafeer\""
   ]
  },
  {
   "cell_type": "code",
   "execution_count": 1,
   "metadata": {},
   "outputs": [],
   "source": [
    "import numpy as np\n",
    "import matplotlib.pyplot as plt\n",
    "from mpl_toolkits.mplot3d import Axes3D\n",
    "import matplotlib.animation as animation\n",
    "import scipy as sci\n",
    "from scipy import integrate\n",
    "from scipy.integrate import odeint\n",
    "from astropy import units as u\n",
    "from mpl_toolkits.axes_grid1.inset_locator import inset_axes\n",
    "import astropy.constants as const\n",
    "import math"
   ]
  },
  {
   "cell_type": "code",
   "execution_count": 4,
   "metadata": {},
   "outputs": [
    {
     "ename": "AttributeError",
     "evalue": "module 'astropy.units' has no attribute 'Kpc'.",
     "output_type": "error",
     "traceback": [
      "\u001b[0;31m---------------------------------------------------------------------------\u001b[0m",
      "\u001b[0;31mAttributeError\u001b[0m                            Traceback (most recent call last)",
      "\u001b[0;32m/var/folders/rf/799sdl_537nf32dnhw741jq80000gn/T/ipykernel_5232/3534554319.py\u001b[0m in \u001b[0;36m<module>\u001b[0;34m\u001b[0m\n\u001b[1;32m      5\u001b[0m \u001b[0mm2\u001b[0m\u001b[0;34m=\u001b[0m\u001b[0;36m1e8\u001b[0m \u001b[0;34m*\u001b[0m \u001b[0mconst\u001b[0m\u001b[0;34m.\u001b[0m\u001b[0mM_sun\u001b[0m \u001b[0;31m#mass of black hole B\u001b[0m\u001b[0;34m\u001b[0m\u001b[0;34m\u001b[0m\u001b[0m\n\u001b[1;32m      6\u001b[0m \u001b[0;34m\u001b[0m\u001b[0m\n\u001b[0;32m----> 7\u001b[0;31m \u001b[0mr1\u001b[0m \u001b[0;34m=\u001b[0m \u001b[0;34m[\u001b[0m\u001b[0;36m5\u001b[0m\u001b[0;34m,\u001b[0m \u001b[0;36m4\u001b[0m\u001b[0;34m,\u001b[0m \u001b[0;36m3\u001b[0m\u001b[0;34m,\u001b[0m \u001b[0;36m2\u001b[0m\u001b[0;34m,\u001b[0m \u001b[0;36m1\u001b[0m\u001b[0;34m]\u001b[0m \u001b[0;34m*\u001b[0m \u001b[0mu\u001b[0m\u001b[0;34m.\u001b[0m\u001b[0mKpc\u001b[0m\u001b[0;34m\u001b[0m\u001b[0;34m\u001b[0m\u001b[0m\n\u001b[0m\u001b[1;32m      8\u001b[0m \u001b[0mr2\u001b[0m \u001b[0;34m=\u001b[0m \u001b[0;34m[\u001b[0m\u001b[0;34m-\u001b[0m\u001b[0;36m5\u001b[0m\u001b[0;34m,\u001b[0m \u001b[0;34m-\u001b[0m\u001b[0;36m3\u001b[0m\u001b[0;34m,\u001b[0m \u001b[0;34m-\u001b[0m\u001b[0;36m2\u001b[0m\u001b[0;34m,\u001b[0m \u001b[0;34m-\u001b[0m\u001b[0;36m1\u001b[0m\u001b[0;34m]\u001b[0m \u001b[0;34m*\u001b[0m \u001b[0mu\u001b[0m\u001b[0;34m.\u001b[0m\u001b[0mKpc\u001b[0m\u001b[0;34m\u001b[0m\u001b[0;34m\u001b[0m\u001b[0m\n\u001b[1;32m      9\u001b[0m \u001b[0;34m\u001b[0m\u001b[0m\n",
      "\u001b[0;32m~/opt/anaconda3/lib/python3.9/site-packages/astropy/units/__init__.py\u001b[0m in \u001b[0;36m__getattr__\u001b[0;34m(attr)\u001b[0m\n\u001b[1;32m     59\u001b[0m         \u001b[0;32mreturn\u001b[0m \u001b[0mwith_H0\u001b[0m\u001b[0;34m\u001b[0m\u001b[0;34m\u001b[0m\u001b[0m\n\u001b[1;32m     60\u001b[0m \u001b[0;34m\u001b[0m\u001b[0m\n\u001b[0;32m---> 61\u001b[0;31m     \u001b[0;32mraise\u001b[0m \u001b[0mAttributeError\u001b[0m\u001b[0;34m(\u001b[0m\u001b[0;34mf\"module {__name__!r} has no attribute {attr!r}.\"\u001b[0m\u001b[0;34m)\u001b[0m\u001b[0;34m\u001b[0m\u001b[0;34m\u001b[0m\u001b[0m\n\u001b[0m",
      "\u001b[0;31mAttributeError\u001b[0m: module 'astropy.units' has no attribute 'Kpc'."
     ]
    }
   ],
   "source": [
    "G = const.G #change the innate time to years\n",
    "m_gal = 1e11 * const.M_sun\n",
    "#Masses\n",
    "m1=1e6 * const.M_sun #mass of black hole A \n",
    "m2=1e8 * const.M_sun #mass of black hole B\n",
    "\n",
    "r1 = [5, 4, 3, 2, 1] * u.Kpc\n",
    "r2 = [-5, -3, -2, -1] * u.Kpc\n",
    "\n",
    "v1 = \n",
    "r1_com = r1 - r_com\n",
    "r2_com = r2 - r_com\n",
    "\n",
    "r1_com = np.sqrt(r1_com[0]**2 + r1_com[1]**2 + r1_com[2]**2)\n",
    "r2_com = np.sqrt(r2_com[0]**2 + r2_com[1]**2 + r2_com[2]**2)\n",
    " # region code : Semi Major Axes\n",
    "\n",
    "rmax1 = np.max(r1 - r_com)\n",
    "rmin1 = np.min(r1- r_com)\n",
    "a1 = (rmax1+rmin1)/2\n",
    "\n",
    "rmax2 = np.max(r2 - r_com)\n",
    "rmin2 = np.min(r2 - r_com)\n",
    "a2 = (rmax2+rmin2)/2\n",
    "# endregion\n",
    "\n",
    "o = (10**(2.2969)*(m_gal/ (10**(11) * const.M_sun))**(0.299)) * (u.km/u.s)\n",
    "# region code : Coulomb Logarithm\n",
    "x1 = (np.abs(a1.to(u.km)) * o**(2)) / (G * m1)\n",
    "x2 = (np.abs(a2.to(u.km)) * o**(2)) / (G * m2)\n",
    "ln_A1 = math.log10(x1.to_value(u.dimensionless_unscaled))\n",
    "ln_A2 = math.log10(x2.to_value(u.dimensionless_unscaled))\n",
    "# endregion\n",
    "\n",
    "F_D1 = 0.428 * ln_A1 * ((G * m1**(2))/r1_com**(2))\n",
    "F_D2 = 0.428 * ln_A2 * ((G * m2**(2))/r2_com**(2))\n",
    "\n",
    "\n",
    "v_r = v2 - v1 # make 2 unit vecotrs for v1 and v2 \n",
    "\n",
    "v_rmag = np.sqrt(v_r[0]**2 + v_r[1]**2 + v_r[2]**2) #will be doing this from now on though linalg.norm does the same\n",
    "\n",
    "v_rel_unit = (v_r / v_rmag)\n",
    "\n",
    "# region code: Dynamical Friction Component to Array for BH A\n",
    "F_D1_i = (F_D1 * v_rel_unit[0])\n",
    "F_D1_j = (F_D1 * v_rel_unit[1])\n",
    "F_D1_k = (F_D1 * v_rel_unit[2])\n",
    "    \n",
    "F_D1 = np.array([F_D1_i.to((u.kg*u.m)/(u.s**2)).value, F_D1_j.to((u.kg*u.m)/ (u.s**2)).value, F_D1_k.to((u.kg*u.m)/ (u.s**2)).value])\n",
    "# endregion\n",
    "\n",
    "# region code: Dynamical Friction Component to Array for BH B\n",
    "F_D2_i = (F_D2 * v_rel_unit[0])\n",
    "F_D2_j = (F_D2 * v_rel_unit[1])\n",
    "F_D2_k = (F_D2 * v_rel_unit[2])\n",
    "    \n",
    "F_D2 = np.array([F_D2_i.to((u.kg*u.m)/(u.s**2)).value, F_D2_j.to((u.kg*u.m)/ (u.s**2)).value, F_D2_k.to((u.kg*u.m)/ (u.s**2)).value])\n",
    "# endregion\n",
    "    \n",
    "\n",
    "\n",
    "\n",
    "F_D1 = F_D1 * ((u.kg * u.m)/(u.s**2))\n",
    "F_D2 = F_D2 * ((u.kg * u.m)/(u.s**2))\n",
    "\n",
    "    \n",
    "T = 10 * u.Gyr # we can extract a from here - whole time in seconds\n",
    "N = 5000\n",
    "delta_t = T/ N\n",
    "\n",
    "F_D1 = (F_D1 / m1).to(u.km / u.s**2)\n",
    "F_D2 = (F_D2 / m2).to(u.km / u.s**2)"
   ]
  },
  {
   "cell_type": "code",
   "execution_count": null,
   "metadata": {},
   "outputs": [],
   "source": []
  }
 ],
 "metadata": {
  "kernelspec": {
   "display_name": "base",
   "language": "python",
   "name": "python3"
  },
  "language_info": {
   "codemirror_mode": {
    "name": "ipython",
    "version": 3
   },
   "file_extension": ".py",
   "mimetype": "text/x-python",
   "name": "python",
   "nbconvert_exporter": "python",
   "pygments_lexer": "ipython3",
   "version": "3.9.13"
  }
 },
 "nbformat": 4,
 "nbformat_minor": 2
}
