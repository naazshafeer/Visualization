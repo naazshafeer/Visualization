{
 "cells": [
  {
   "cell_type": "markdown",
   "metadata": {},
   "source": [
    "This is going to be the similar mass case with circular orbit and then implement Df equation with that\n",
    "\n",
    "\n",
    "How this Jupyter Notebook will look like:\n",
    "- Initialize the packets\n",
    "- initial conditions\n",
    "- dictate the circular orbit\n",
    "- forloop\n",
    "- effective energy plot (coming soon)"
   ]
  },
  {
   "cell_type": "code",
   "execution_count": 25,
   "metadata": {},
   "outputs": [],
   "source": [
    "import numpy as np\n",
    "import matplotlib.pyplot as plt\n",
    "from mpl_toolkits.mplot3d import Axes3D\n",
    "import matplotlib.animation as animation\n",
    "import scipy as sci\n",
    "from scipy import integrate\n",
    "from scipy.integrate import solve_ivp\n",
    "from astropy import units as u\n",
    "from mpl_toolkits.axes_grid1.inset_locator import inset_axes\n",
    "import astropy.constants as const\n",
    "import math\n",
    "from functools import partial\n",
    "import pickle"
   ]
  },
  {
   "cell_type": "code",
   "execution_count": 26,
   "metadata": {},
   "outputs": [],
   "source": [
    "plt.rcParams['font.family'] = 'Times New Roman'\n",
    "plt.rcParams['axes.linewidth'] = 1.5\n",
    "plt.rcParams['font.size'] = 12 "
   ]
  },
  {
   "cell_type": "markdown",
   "metadata": {},
   "source": [
    "This is the tests that were done in Kris' github:"
   ]
  },
  {
   "cell_type": "code",
   "execution_count": 27,
   "metadata": {},
   "outputs": [
    {
     "name": "stdout",
     "output_type": "stream",
     "text": [
      "2817.2281287632354 pc\n"
     ]
    }
   ],
   "source": [
    "a_0 = 2.95 \n",
    "b_0 = 0.596\n",
    "mstar_tot = 1e11 * u.Msun\n",
    "r_eff = (a_0*(mstar_tot/(1.e6*u.Msun))**b_0)* u.pc\n",
    "print(r_eff)"
   ]
  },
  {
   "cell_type": "code",
   "execution_count": 28,
   "metadata": {},
   "outputs": [
    {
     "name": "stdout",
     "output_type": "stream",
     "text": [
      "Binary radius is: 447.20708952331626 pc\n",
      "11.268912515052946 pc\n"
     ]
    }
   ],
   "source": [
    "m1 = 4e8 * u.Msun\n",
    "rb = (m1/mstar_tot)**(1./3.)*r_eff\n",
    "print(\"Binary radius is:\", rb)\n",
    "dyn_hard = (((rb/r_eff)**3)*r_eff).to(u.pc)\n",
    "print(dyn_hard)"
   ]
  },
  {
   "cell_type": "code",
   "execution_count": 29,
   "metadata": {},
   "outputs": [
    {
     "name": "stdout",
     "output_type": "stream",
     "text": [
      "[215.   0.   0.] pc\n",
      "[0.         0.00012886 0.        ] pc / yr [ 0.         -0.00012886  0.        ] pc / yr\n"
     ]
    }
   ],
   "source": [
    "# region Code Snippet 1: IC's\n",
    "G = const.G.to(u.pc**3/(u.kg*u.yr**2)) #change the innate time to years\n",
    "m_gal = 1e11 * const.M_sun\n",
    "#Masses\n",
    "m1=4e8 * const.M_sun #mass of black hole A\n",
    "m2=4e8 * const.M_sun #mass of black hole B\n",
    "\n",
    "\n",
    "sep = 430 * u.pc #3kpc\n",
    "r1_initial=[((sep/2.).value),0,0] * u.pc\n",
    "r2_initial=[-((sep/2.).value),0,0] * u.pc\n",
    "#To arrays\n",
    "\n",
    "r1=np.array(r1_initial,dtype=\"float64\") * u.pc\n",
    "r2=np.array(r2_initial,dtype=\"float64\") * u.pc\n",
    "\n",
    "#Semi-major axis\n",
    "a = (0.5 * (sep))\n",
    "\n",
    "#COM\n",
    "r_com=(m1*r1+m2*r2)/(m1+m2)\n",
    "\n",
    "#orbital veloctiy\n",
    "# orb_v = (np.sqrt(const.G*(m1+m2)/a)).to(u.km/u.s) #added with Kris' source\n",
    "# v = np.sqrt((const.G * (m1)) / r.to(u.m)).to(u.km/u.s)\n",
    "v_circ = (np.sqrt((G*m1*(sep/2))/(sep)**2)).value #should be around 44\n",
    "print(r1)\n",
    "#V_i\n",
    "v1_initial1=[0,v_circ, 0] *u.pc/u.yr\n",
    "v2_inital1=[0,-v_circ,0] *u.pc/u.yr #km/s\n",
    "\n",
    "# v_df_fixed = (((np.sqrt(const.G*(m1+m2)/a)).to(u.km/u.s)).to(u.pc / u.yr).value)\n",
    "\n",
    "v_df_fixed = (126 * u.km/ u.s).to(u.pc / u.yr).value #should be around 126\n",
    "\n",
    "\n",
    "# pi4 = (np.sqrt(2) / 2) * v_df_fixed\n",
    "v1_df = np.array([ 0, v_df_fixed, 0]) *u.pc/u.yr\n",
    "v2_df = np.array([0, -v_df_fixed, 0]) *u.pc/u.yr\n",
    "print(v1_df, v2_df)\n",
    "#To arrays\n",
    "v1=np.array(v1_initial1,dtype=\"float64\") *u.pc/u.yr\n",
    "v2=np.array(v2_inital1,dtype=\"float64\") *u.pc/u.yr\n",
    "#Find velocity of COM\n",
    "v_com=(m1*v1+m2*v2)/(m1+m2)\n",
    "\n",
    "#3 Gyr - 10 kpc\n",
    "\n",
    "y01 = np.concatenate([\n",
    "    r1.to_value(u.pc),\n",
    "    r2.to_value(u.pc),\n",
    "    v1.to_value(u.pc/u.yr),\n",
    "    v2.to_value(u.pc/u.yr)\n",
    "])\n",
    "\n",
    "y0_df = np.concatenate([\n",
    "    r1.to_value(u.pc),\n",
    "    r2.to_value(u.pc),\n",
    "    v1_df.to_value(u.pc/u.yr),\n",
    "    v2_df.to_value(u.pc/u.yr)\n",
    "])\n"
   ]
  },
  {
   "cell_type": "code",
   "execution_count": 30,
   "metadata": {},
   "outputs": [
    {
     "data": {
      "text/latex": [
       "$198.10708 \\; \\mathrm{}$"
      ],
      "text/plain": [
       "<Quantity 198.10708149>"
      ]
     },
     "execution_count": 30,
     "metadata": {},
     "output_type": "execute_result"
    }
   ],
   "source": [
    "(10**(2.2969)*(m_gal / (10**11 * const.M_sun)))"
   ]
  },
  {
   "cell_type": "markdown",
   "metadata": {},
   "source": [
    "Functions"
   ]
  },
  {
   "cell_type": "code",
   "execution_count": 31,
   "metadata": {},
   "outputs": [],
   "source": [
    "def velocity_dispersion(m_gal_kg):\n",
    "    \"\"\"Calculate velocity dispersion in pc/yr using scaling relation\"\"\"\n",
    "    m_gal_ratio = m_gal_kg / (1e11 * const.M_sun.to(u.kg).value)\n",
    "    v_kms = (10**2.2969) * m_gal_ratio**0.299  # km/s\n",
    "    v_disp = (v_kms * u.km / u.s).to(u.pc / u.yr)\n",
    "    return v_disp  # returns Quantity [pc/yr]\n",
    "\n",
    "def coulomb_logarithm(r_pc, sigma_pc_yr, G_val, m_val):\n",
    "    \"\"\"Coulomb logarithm calculation from dimensionless expression\"\"\"\n",
    "    # Convert sigma to float for math expression\n",
    "    sigma_val = sigma_pc_yr.value\n",
    "    x = (r_pc * sigma_val**2) / (G_val * m_val)\n",
    "    return math.log10(x)\n",
    "\n",
    "def dynamical_friction_acceleration(r_mag_pc, v_vec_pc_yr, ln_Lambda, G_val, m_val):\n",
    "    \"\"\"Compute DF acceleration for one object\"\"\"\n",
    "    v_mag = np.linalg.norm(v_vec_pc_yr)\n",
    "    unit_v = v_vec_pc_yr / v_mag\n",
    "    a_df_mag = 0.428 * ln_Lambda * ((G_val * (m_val)) / r_mag_pc**2)\n",
    "    return (-a_df_mag * unit_v)  # returns np.array of shape (3,)\n",
    "\n",
    "def calculate_DF(G_val, m1_val, m2_val, m_gal_val, r1_vec_pc, r2_vec_pc, v1_vec_pc_yr, v2_vec_pc_yr):\n",
    "    \"\"\"Full DF acceleration for two BHs in galaxy frame\"\"\"\n",
    "\n",
    "    sigma_pc_yr = velocity_dispersion(m_gal_val)\n",
    "\n",
    "\n",
    "    r1_mag_pc = np.linalg.norm(r1_vec_pc)\n",
    "    r2_mag_pc = np.linalg.norm(r2_vec_pc)\n",
    "\n",
    "\n",
    "    ln_A1 = coulomb_logarithm(r1_mag_pc, sigma_pc_yr, G_val, m1_val)\n",
    "    ln_A2 = coulomb_logarithm(r2_mag_pc, sigma_pc_yr, G_val, m2_val)\n",
    "\n",
    "\n",
    "    a_df1 = dynamical_friction_acceleration(r1_mag_pc, v1_vec_pc_yr, ln_A1, G_val, m1_val)\n",
    "    a_df2 = dynamical_friction_acceleration(r2_mag_pc, v2_vec_pc_yr, ln_A2, G_val, m2_val)\n",
    "\n",
    "    return a_df1, a_df2  # both in [pc/yr²] as np.arrays"
   ]
  },
  {
   "cell_type": "code",
   "execution_count": 32,
   "metadata": {},
   "outputs": [
    {
     "name": "stdout",
     "output_type": "stream",
     "text": [
      "0.0002026065222185805 pc / yr, velocity, dispersion, is the function value and 0.0002026065222185805 pc / yr is what the raw conversion from the for loop and they match!\n",
      "0.6906173797913484 also matches and it is the coulomb logarithm\n",
      "[-0.00000000e+00 -1.15062095e-11 -0.00000000e+00]\n"
     ]
    },
    {
     "data": {
      "text/latex": [
       "$[-0,~-3.565126 \\times 10^{-13},~-0] \\; \\mathrm{\\frac{km}{s^{2}}}$"
      ],
      "text/plain": [
       "<Quantity [-0.00000000e+00, -3.56512603e-13, -0.00000000e+00] km / s2>"
      ]
     },
     "execution_count": 32,
     "metadata": {},
     "output_type": "execute_result"
    }
   ],
   "source": [
    "o = velocity_dispersion(m_gal.value)\n",
    "print(f'{o}, velocity, dispersion, is the function value and {(198.107081487124 * (u.km / u.s)).to(u.pc/u.yr)} is what the raw conversion from the for loop and they match!')\n",
    "ln_A1 = coulomb_logarithm(215, o, G.value, m1.value)\n",
    "print(f'{ln_A1} also matches and it is the coulomb logarithm')\n",
    "a_d1 = dynamical_friction_acceleration(215, v1, ln_A1, G.value, m1.value)\n",
    "print(a_d1)\n",
    "(a_d1 * (u.pc / u.yr**2)).to(u.km/u.s**2)\n",
    "\n",
    "\n",
    "\n"
   ]
  },
  {
   "cell_type": "code",
   "execution_count": 33,
   "metadata": {},
   "outputs": [],
   "source": [
    "# T = 1 * u.Gyr\n",
    "# N = 500\n",
    "# delta_t = T/ N\n",
    "\n",
    "\n",
    "# # dv1bydt= ((G*m2*(r2-r1))/r**3).to(u.km / u.s**2) + F_D1\n",
    "# # dv2bydt= ((-G*m1*(r2-r1))/r**3).to(u.km / u.s**2)  + F_D2\n",
    "# # dr1bydt = v1  # maybe we don't need df subtraction here\n",
    "# # dr2bydt = v2\n",
    "# # r_derivs=np.concatenate((dr1bydt.value,dr2bydt.value))\n",
    "# # derivs=np.concatenate((r_derivs,dv1bydt.value,dv2bydt.value))\n",
    "\n",
    "# time_span=np.linspace(0, T, N) #Work on this with Kris' link"
   ]
  },
  {
   "cell_type": "markdown",
   "metadata": {},
   "source": [
    "Period Test"
   ]
  },
  {
   "cell_type": "code",
   "execution_count": 34,
   "metadata": {},
   "outputs": [
    {
     "name": "stdout",
     "output_type": "stream",
     "text": [
      "14.766364899677814 Myr\n"
     ]
    }
   ],
   "source": [
    "orbital_period = np.sqrt((4 * (np.pi)**2 / (G * (m1)) * (a**3))).to(u.Myr)\n",
    "\n",
    "print(orbital_period)"
   ]
  },
  {
   "cell_type": "markdown",
   "metadata": {},
   "source": [
    "One of the tests to do:\n",
    "\n"
   ]
  },
  {
   "cell_type": "code",
   "execution_count": 35,
   "metadata": {},
   "outputs": [
    {
     "data": {
      "image/png": "[encoded data removed]",
      "text/plain": [
       "<Figure size 1000x600 with 1 Axes>"
      ]
     },
     "metadata": {},
     "output_type": "display_data"
    }
   ],
   "source": [
    "def dydt_trackingforall(t, y, m1, m2, G_, m_gal_, df_on=False):\n",
    "    r1_ = y[0:3]\n",
    "    r2_ = y[3:6]\n",
    "    v1_ = y[6:9]\n",
    "    v2_ = y[9:12]\n",
    "\n",
    "    r12 = r2_ - r1_\n",
    "    r12_mag = np.linalg.norm(r12)\n",
    "\n",
    "    dv1bydt = (G_ * m2 / r12_mag**3) * r12\n",
    "    dv2bydt = (G_ * m1 / r12_mag**3) * (-r12)\n",
    "\n",
    "    a1_df = np.zeros(3)\n",
    "    a2_df = np.zeros(3)\n",
    "\n",
    "    if df_on:\n",
    "        a1_df, a2_df = calculate_DF(G_, m1, m2, m_gal_, r1_, r2_, v1_, v2_)\n",
    "\n",
    "    a1_total = dv1bydt + a1_df\n",
    "    a2_total = dv2bydt + a2_df\n",
    "\n",
    "    return np.concatenate([v1_, v2_, a1_total, a2_total])\n",
    "\n",
    "\n",
    "\n",
    "\n",
    "t_i = 0.0  # yr\n",
    "t_f = (20 * u.Myr).to(u.yr).value  # in yr\n",
    "t_eval = np.linspace(t_i, t_f, 500)\n",
    "\n",
    "G_val = G.value  # in pc^3 / (kg * yr^2)\n",
    "m1_val = m1.to(u.kg).value\n",
    "m2_val = m2.to(u.kg).value\n",
    "m_gal_val = m_gal.value\n",
    "\n",
    "dydt_no_df = partial(dydt_trackingforall, m1=m1_val, m2=m2_val, G_=G_val, m_gal_=m_gal_val, df_on=False)\n",
    "dydt_df = partial(dydt_trackingforall, m1=m1_val, m2=m2_val, G_=G_val, m_gal_=m_gal_val, df_on=True)\n",
    "\n",
    "sol_no_df = solve_ivp(dydt_no_df, (t_i, t_f), y01, t_eval=t_eval, method='RK45', rtol=1e-8, atol=1e-8)\n",
    "sol_df = solve_ivp(dydt_df, (t_i, t_f), y0_df, t_eval=t_eval, method='RK45', rtol=1e-8, atol=1e-8)\n",
    "\n",
    "def unpack_solution(sol):\n",
    "    r1_ = sol.y[0:3].T  # shape (N, 3)\n",
    "    r2_ = sol.y[3:6].T\n",
    "    v1_ = sol.y[6:9].T\n",
    "    v2_ = sol.y[9:12].T\n",
    "    sep = np.linalg.norm(r1_ - r2_, axis=1)\n",
    "    return r1_, r2_, v1_, v2_, sep\n",
    "\n",
    "\n",
    "r1_nodf_arr, r2_nodf_arr, v1_nodf_arr, v2_nodf_arr, sep_nodf_arr = unpack_solution(sol_no_df)\n",
    "r1_df_arr, r2_df_arr, v1_df_arr, v2_df_arr, sep_df_arr = unpack_solution(sol_df)\n",
    "\n",
    "\n",
    "def compute_forces(G_, m1, m2, m_gal_, r1_arr, r2_arr, v1_arr, v2_arr, df_on=False):\n",
    "    N = r1_arr.shape[0]\n",
    "    a_grav1 = np.zeros((N, 3))\n",
    "    a_grav2 = np.zeros((N, 3))\n",
    "    a_df1 = np.zeros((N, 3))\n",
    "    a_df2 = np.zeros((N, 3))\n",
    "    a_total1 = np.zeros((N, 3))\n",
    "    a_total2 = np.zeros((N, 3))\n",
    "\n",
    "    for i in range(N):\n",
    "        r1_ = r1_arr[i]\n",
    "        r2_ = r2_arr[i]\n",
    "        v1_ = v1_arr[i]\n",
    "        v2_ = v2_arr[i]\n",
    "\n",
    "        r12 = r2_ - r1_\n",
    "        r12_mag = np.linalg.norm(r12)\n",
    "\n",
    "\n",
    "        a1_grav = (G_ * m2 / r12_mag**3) * r12\n",
    "        a2_grav = (G_ * m1 / r12_mag**3) * (-r12)\n",
    "\n",
    "\n",
    "        a1_df = np.zeros(3)\n",
    "        a2_df = np.zeros(3)\n",
    "        if df_on:\n",
    "            a1_df, a2_df = calculate_DF(G_, m1, m2, m_gal_, r1_, r2_, v1_, v2_)\n",
    "\n",
    "        a_grav1[i] = a1_grav\n",
    "        a_grav2[i] = a2_grav\n",
    "        a_df1[i] = a1_df\n",
    "        a_df2[i] = a2_df\n",
    "\n",
    "\n",
    "        a_total1[i] = a1_grav + a1_df\n",
    "        a_total2[i] = a2_grav + a2_df\n",
    "\n",
    "    return a_grav1, a_grav2, a_df1, a_df2, a_total1, a_total2\n",
    "\n",
    "\n",
    "\n",
    "a_grav1_nodf, a_grav2_nodf, a_df1_nodf, a_df2_nodf, a_tot1_nodf, a_tot2_nodf = compute_forces(\n",
    "    G_val, m1_val, m2_val, m_gal_val,\n",
    "    r1_nodf_arr, r2_nodf_arr, v1_nodf_arr, v2_nodf_arr, df_on=False\n",
    ")\n",
    "\n",
    "\n",
    "a_grav1_df, a_grav2_df, a_df1_df, a_df2_df, a_tot1_df, a_tot2_df = compute_forces(\n",
    "    G_val, m1_val, m2_val, m_gal_val,\n",
    "    r1_df_arr, r2_df_arr, v1_df_arr, v2_df_arr, df_on=True\n",
    ")\n",
    "\n",
    "\n",
    "plt.figure(figsize=(10, 6))\n",
    "plt.plot(r1_nodf_arr[:, 0], r1_nodf_arr[:, 1], label='BH1 - No DF')\n",
    "plt.plot(r2_nodf_arr[:, 0], r2_nodf_arr[:, 1], label='BH2 - No DF')\n",
    "plt.plot(r1_df_arr[:, 0], r1_df_arr[:, 1], label='BH1 - With DF', linestyle='--')\n",
    "plt.plot(r2_df_arr[:, 0], r2_df_arr[:, 1], label='BH2 - With DF', linestyle='--')\n",
    "plt.xlabel('X [pc]')\n",
    "plt.ylabel('Y [pc]')\n",
    "plt.title('Black Hole Orbits With and Without Dynamical Friction')\n",
    "plt.legend()\n",
    "plt.grid(True)\n",
    "plt.axis('equal')\n",
    "plt.tight_layout()\n",
    "plt.show()\n",
    "\n",
    "\n",
    "# plt.figure(figsize=(10, 6))\n",
    "# plt.plot(t_eval[:len(sep_nodf_arr)] / 1e6, sep_nodf_arr, label='No DF') #integrator stopping early\n",
    "# plt.plot(t_eval[:len(sep_df_arr)] / 1e6, sep_df_arr, label='With DF')\n",
    "# plt.xlabel('Time [Myr]')\n",
    "# plt.ylabel('Separation [pc]')\n",
    "# plt.title('Separation vs. Time')\n",
    "# plt.legend()\n",
    "# plt.grid(True)\n",
    "# plt.tight_layout()\n",
    "# plt.show()\n",
    "\n",
    "speed1_nodf = np.linalg.norm(v1_nodf_arr, axis=1)\n",
    "speed1_df = np.linalg.norm(v1_df_arr, axis=1)\n",
    "\n",
    "# plt.figure(figsize=(10, 6))\n",
    "# plt.plot(t_eval[:len(speed1_nodf)] / 1e6, speed1_nodf, label='BH1 Speed - No DF') #same with this\n",
    "# plt.plot(t_eval[:len(speed1_df)] / 1e6, speed1_df, label='BH1 Speed - With DF')\n",
    "# plt.xlabel('Time [Myr]')\n",
    "# plt.ylabel('Speed [pc/yr]')\n",
    "# plt.title('Velocity Magnitude Over Time')\n",
    "# plt.legend()\n",
    "# plt.grid(True)\n",
    "# plt.tight_layout()\n",
    "# plt.show()\n",
    "\n",
    "\n",
    "\n",
    "# def unpack_solution(sol):\n",
    "#     r1 = sol.y[0:3].T  # in pc\n",
    "#     r2 = sol.y[3:6].T\n",
    "#     v1 = sol.y[6:9].T\n",
    "#     v2 = sol.y[9:12].T\n",
    "#     sep = np.linalg.norm(r1 - r2, axis=1)\n",
    "#     return r1, r2, sep, v1, v2\n",
    "\n",
    "\n",
    "# r1_no_df, r2_no_df, sep_no_df, v1_nodf, v2_nodf = unpack_solution(sol_no_df)\n",
    "# r1_df, r2_df, sep_df, v1_df, v2_df = unpack_solution(sol_df)\n",
    "\n",
    "# kms = ((v1_df) * (u.pc / u.yr)).to(u.km / u.s)\n",
    "# print(kms, r1_df)\n",
    "# plt.figure(figsize=(8, 6))\n",
    "# plt.plot(r1_no_df[:, 0], r1_no_df[:, 1], label='BH1 without DF')\n",
    "# plt.plot(r2_no_df[:, 0], r2_no_df[:, 1], label='BH2 without DF')\n",
    "# plt.xlabel(\"X [pc]\")\n",
    "# plt.ylabel(\"Y [pc]\")\n",
    "# plt.title(\"Orbits without Dynamical Friction\")\n",
    "# plt.legend()\n",
    "# plt.grid(True)\n",
    "# plt.axis('equal')\n",
    "# plt.show()\n",
    "\n",
    "# plt.figure(figsize=(8, 6))\n",
    "# plt.plot(r1_df[:, 0], r1_df[:, 1], label='BH1 with DF')\n",
    "# plt.plot(r2_df[:, 0], r2_df[:, 1], label='BH2 with DF')\n",
    "# plt.xlabel(\"X [pc]\")\n",
    "# plt.ylabel(\"Y [pc]\")\n",
    "# plt.title(\"Orbits with Dynamical Friction\")\n",
    "# plt.legend()\n",
    "# plt.grid(True)\n",
    "# plt.axis('equal')\n",
    "# plt.show()\n",
    "\n",
    "# # Plot separation vs time\n",
    "# plt.figure(figsize=(8, 6))\n",
    "# plt.plot(t_eval / 1e6, sep_no_df, label='Without DF')\n",
    "# plt.plot(t_eval / 1e6, sep_df, label='With DF')\n",
    "# plt.xlabel(\"Time [Myr]\")\n",
    "# plt.ylabel(\"Separation [pc]\")\n",
    "# plt.title(\"Separation vs Time\")\n",
    "# plt.legend()\n",
    "# plt.grid(True)\n",
    "# plt.show()"
   ]
  },
  {
   "cell_type": "code",
   "execution_count": 36,
   "metadata": {},
   "outputs": [
    {
     "data": {
      "text/plain": [
       "(500, 3)"
      ]
     },
     "execution_count": 36,
     "metadata": {},
     "output_type": "execute_result"
    }
   ],
   "source": [
    "r1_df_arr.shape"
   ]
  },
  {
   "cell_type": "code",
   "execution_count": 37,
   "metadata": {},
   "outputs": [
    {
     "data": {
      "text/plain": [
       "[<matplotlib.lines.Line2D at 0x7f90a989a8c0>,\n",
       " <matplotlib.lines.Line2D at 0x7f90a99141f0>,\n",
       " <matplotlib.lines.Line2D at 0x7f90a99140a0>]"
      ]
     },
     "execution_count": 37,
     "metadata": {},
     "output_type": "execute_result"
    },
    {
     "data": {
      "image/png": "[encoded data removed]",
      "text/plain": [
       "<Figure size 640x480 with 1 Axes>"
      ]
     },
     "metadata": {},
     "output_type": "display_data"
    }
   ],
   "source": [
    "plt.plot(t_eval, v1_df_arr)"
   ]
  },
  {
   "cell_type": "code",
   "execution_count": 38,
   "metadata": {},
   "outputs": [],
   "source": [
    "# # region code : past for loop\n",
    "# r1_sol = [r1_initial.copy()]\n",
    "# r2_sol = [r2_initial.copy()]\n",
    "# v1_sol = []\n",
    "# v2_sol = []\n",
    "# F_D1sol = []\n",
    "# F_D2sol = []\n",
    "# r1_mag_sol = []\n",
    "# r2_mag_sol = []\n",
    "\n",
    "\n",
    "# for i in range(5):\n",
    "\n",
    "#     r1, r2, v1, v2, dv1bydt, dv2bydt = two_body(G, m1, m2, r1, r2, v1, v2, delta_t)\n",
    "\n",
    "#     print(r1, r2)\n",
    "#     # o = velocity_disp(m_gal)\n",
    "#     # ln_A1, ln_A2, r1_com_mag, r2_com_mag = coulomb_log(r1, r2, r_com, o, G, m1, m2)\n",
    "\n",
    "\n",
    "#     # F_D1_accel, F_D2_accel = dynamical_friction(G, m1, m2, r1_com_mag, r2_com_mag, v1, v2, ln_A1, ln_A2, v_com)\n",
    "\n",
    "\n",
    "#     # dv1bydt += F_D1_accel\n",
    "#     # dv2bydt += F_D2_accel\n",
    "\n",
    "\n",
    "#     # v1 += dv1bydt * delta_t\n",
    "#     # v2 += dv2bydt * delta_t\n",
    "\n",
    "#     # r1 += v1 * delta_t\n",
    "#     # r2 += v2 * delta_t\n",
    "\n",
    "\n",
    "#     r1_mag = np.linalg.norm(r1)\n",
    "#     r2_mag = np.linalg.norm(r2)\n",
    "\n",
    "#     r1_mag_sol.append(r1_mag.value)\n",
    "#     r2_mag_sol.append(r2_mag.value)\n",
    "\n",
    "#     # F_D1sol.append(F_D1_accel.value)\n",
    "#     # F_D2sol.append(F_D2_accel.value)\n",
    "\n",
    "#     r1_sol.append(r1.value)\n",
    "#     r2_sol.append(r2.value)\n",
    "#     v1_sol.append(v1.value)\n",
    "#     v2_sol.append(v2.value)\n",
    "\n",
    "# time_values = np.arange(0, N) * delta_t.to(u.Myr).value  # Convert delta_t to Myr or desired unit\n",
    "\n",
    "# r1_sol = np.array(r1_sol)\n",
    "# r2_sol = np.array(r2_sol)\n",
    "# v1_sol = np.array(v1_sol)\n",
    "# v2_sol = np.array(v2_sol)\n",
    "# # F_D1sol = np.array(F_D1sol)\n",
    "# # F_D2sol = np.array(F_D2sol)\n",
    "# r1_mag_sol = np.array(r1_mag_sol)\n",
    "# r2_mag_sol = np.array(r2_mag_sol)\n",
    "\n",
    "\n",
    "\n",
    "# print(\"Final positions (r1, r2):\", r1_sol[-1], r2_sol[-1])\n",
    "# print(\"Final velocities (v1, v2):\", v1_sol[-1], v2_sol[-1])\n",
    "# # print(\"Final dynamical friction (F_D1, F_D2):\", F_D1sol[-1], F_D2sol[-1])\n",
    "\n",
    "# # endregion     \n"
   ]
  },
  {
   "cell_type": "code",
   "execution_count": 39,
   "metadata": {},
   "outputs": [],
   "source": [
    "# region\n",
    "\n",
    "\n",
    "# fig, axs = plt.subplots(1, 2, figsize=(12, 5))  \n",
    "\n",
    "\n",
    "# axs[0].plot(time_values, r1_mag_sol, label=\"|r1|\", color='b')\n",
    "\n",
    "# axs[0].set_title(\"Magnitude of r1 Over Time\")\n",
    "# axs[0].set_xlabel(\"Time (Myr)\")\n",
    "# axs[0].set_ylabel(\"Distance (pc)\")\n",
    "# axs[0].legend()\n",
    "# axs[0].grid(True)\n",
    "\n",
    "\n",
    "# axs[1].plot(time_values, r2_mag_sol, label=\"|r2|\", color='r')\n",
    "# axs[1].set_title(\"Magnitude of r2 Over Time\")\n",
    "# axs[1].set_xlabel(\"Time (Myr)\")\n",
    "# axs[1].set_ylabel(\"Distance (pc)\")\n",
    "# axs[1].legend()\n",
    "# axs[1].grid(True)\n",
    "\n",
    "# plt.plot(r1_sol[:, 0], r1_sol[:, 1], label=\"r1\", color='b')\n",
    "# plt.plot(r2_sol[:, 0], r2_sol[:, 1], label=\"r2\", color='r')\n",
    "# plt.title(\"2D Plot of BH A and BH B\")\n",
    "\n",
    "# plt.tight_layout()  # Adjust layout for better spacing\n",
    "# plt.show()\n",
    "\n",
    "# # endregion"
   ]
  },
  {
   "cell_type": "markdown",
   "metadata": {},
   "source": [
    "*mag of velocity + separation vector"
   ]
  },
  {
   "cell_type": "code",
   "execution_count": 40,
   "metadata": {},
   "outputs": [],
   "source": [
    "# sep = r1_sol - r2_sol\n",
    "# sep_mag = np.linalg.norm(sep, axis=1)\n",
    "# print(sep_mag)\n",
    "\n",
    "# plt.plot(time_values, sep_mag, label=\"Separation\")"
   ]
  },
  {
   "cell_type": "code",
   "execution_count": 41,
   "metadata": {},
   "outputs": [],
   "source": [
    "# r1_sol = np.array(r1_sol)\n",
    "# r2_sol = np.array(r2_sol)\n",
    "\n",
    "\n",
    "\n",
    "# finalsep = r1_sol[-1] - r2_sol[-1]\n",
    "\n",
    "# print(finalsep)"
   ]
  },
  {
   "cell_type": "code",
   "execution_count": 42,
   "metadata": {},
   "outputs": [],
   "source": [
    "\n",
    "# fig = plt.figure(figsize=(8, 8))\n",
    "# ax = fig.add_subplot(111, projection='3d')\n",
    "\n",
    "\n",
    "# ax.plot(r1_sol[:, 0], r1_sol[:, 1], r1_sol[:, 2], label=\"Orbit of BH A\", color=\"blue\")\n",
    "\n",
    "\n",
    "# ax.plot(r2_sol[:, 0], r2_sol[:, 1], r2_sol[:, 2], label=\"Orbit of BH B\", color=\"red\")\n",
    "\n",
    "\n",
    "# ax.set_xlabel('X (pc)')\n",
    "# ax.set_ylabel('Y (pc)') \n",
    "# ax.set_zlabel('Z (pc)')\n",
    "# ax.set_title('3D Orbit')\n",
    "\n",
    "\n",
    "# ax.legend()\n",
    "\n",
    "# initial_conditions_text = (\n",
    "#     f\"Initial Conditions:\\n\"\n",
    "#     f\"BH A: Position:{r1_initial}, Velocity:{v1_initial}\\n\"\n",
    "#     f\"BH B: Position:{r2_initial}, Velocity:{v2_inital}\\n\"\n",
    "#     f\"Time: 0 to {T}\"\n",
    "# )\n",
    "# fig.text(0, 0.8, initial_conditions_text, fontsize=10, bbox=dict(boxstyle=\"round\", facecolor=\"lightgray\", alpha=0.5))\n",
    "\n",
    "# plt.show()"
   ]
  },
  {
   "cell_type": "code",
   "execution_count": 43,
   "metadata": {},
   "outputs": [],
   "source": [
    "# import numpy as np\n",
    "# import matplotlib.pyplot as plt\n",
    "# from mpl_toolkits.mplot3d import Axes3D\n",
    "# from matplotlib.animation import FuncAnimation\n",
    "\n",
    "\n",
    "# fig = plt.figure(figsize=(8, 8))\n",
    "# ax = fig.add_subplot(111, projection='3d')\n",
    "\n",
    "\n",
    "# ax.set_xlabel('X (pc)')\n",
    "# ax.set_ylabel('Y (pc)')\n",
    "# ax.set_zlabel('Z (pc)')\n",
    "# ax.set_title('Orbit Throughout Time')\n",
    "\n",
    "\n",
    "# line1, = ax.plot([], [], [], label=\"Orbit of BH A\", color=\"blue\")\n",
    "# line2, = ax.plot([], [], [], label=\"Orbit of BH B\", color=\"red\")\n",
    "# ax.legend()\n",
    "\n",
    "# # Limits for the plot (adjust as needed based on data)\n",
    "# ax.set_xlim([min(np.min(r1_sol[:, 0]), np.min(r2_sol[:, 0])), max(np.max(r1_sol[:, 0]), np.max(r2_sol[:, 0]))])\n",
    "# ax.set_ylim([min(np.min(r1_sol[:, 1]), np.min(r2_sol[:, 1])), max(np.max(r1_sol[:, 1]), np.max(r2_sol[:, 1]))])\n",
    "# ax.set_zlim([min(np.min(r1_sol[:, 2]), np.min(r2_sol[:, 2])), max(np.max(r1_sol[:, 2]), np.max(r2_sol[:, 2]))])\n",
    "\n",
    "\n",
    "# def update(num):\n",
    "\n",
    "#     line1.set_data(r1_sol[:num, 0], r1_sol[:num, 1])\n",
    "#     line1.set_3d_properties(r1_sol[:num, 2])\n",
    "    \n",
    "#     line2.set_data(r2_sol[:num, 0], r2_sol[:num, 1])\n",
    "#     line2.set_3d_properties(r2_sol[:num, 2])\n",
    "    \n",
    "#     return line1, line2\n",
    "\n",
    "# initial_conditions_text = (\n",
    "#     f\"Initial Conditions:\\n\"\n",
    "#     f\"BH A: Position:{r1_initial}, Velocity:{v1_initial}\\n\"\n",
    "#     f\"BH B: Position:{r2_initial}, Velocity:{v2_inital}\\n\"\n",
    "#     f\"Time: 0 to {T}\"\n",
    "# )\n",
    "# fig.text(0, 0.8, initial_conditions_text, fontsize=10, bbox=dict(boxstyle=\"round\", facecolor=\"lightgray\", alpha=0.5))\n",
    "\n",
    "# # ani = FuncAnimation(fig, update, frames=len(r1_sol), interval=50, blit=True)\n",
    "\n",
    "\n",
    "# # plt.show()\n",
    "\n",
    "\n",
    "# # ani.save(\"J1010#6.mp4\", writer=\"ffmpeg\", fps=220)  # Adjust fps as needed"
   ]
  },
  {
   "cell_type": "markdown",
   "metadata": {},
   "source": [
    "Plot of Velocities"
   ]
  },
  {
   "cell_type": "markdown",
   "metadata": {},
   "source": [
    "Dynamical Friction Plot"
   ]
  },
  {
   "cell_type": "code",
   "execution_count": 44,
   "metadata": {},
   "outputs": [],
   "source": [
    "# c_values = [0.001, 0.01, 0.1, 1, 10, 100]  \n",
    "\n",
    "# fig, axs = plt.subplots(1, 2, figsize=(12, 5))  \n",
    "\n",
    "# for c in c_values:\n",
    "#     r1_sol = []\n",
    "#     r2_sol = []\n",
    "#     v1_sol = []\n",
    "#     v2_sol = []\n",
    "#     F_D1sol = []\n",
    "#     F_D2sol = []\n",
    "\n",
    "\n",
    "#     for i in range(N):\n",
    "#         dv1bydt=((G*m2*(r2-r1))/r**3).to(u.km / u.s**2) + (c * F_D1)\n",
    "#         dv2bydt=((-G*m1*(r2-r1))/r**3).to(u.km / u.s**2) + (c * F_D2) \n",
    "#         v1 += dv1bydt * delta_t\n",
    "#         v2 += dv2bydt * delta_t\n",
    "\n",
    "#         r1 += v1.to(u.pc / u.s) * delta_t\n",
    "#         r2 += v2.to(u.pc / u.s) * delta_t\n",
    "#         # region Code Snippet 2: DF\n",
    "#         r1_com = r1 - r_com\n",
    "#         r2_com = r2 - r_com\n",
    "\n",
    "#         r1_com = np.sqrt(r1_com[0]**2 + r1_com[1]**2 + r1_com[2]**2) #we have to put the magnitude of the distance from each object from the COM\n",
    "#         r2_com = np.sqrt(r2_com[0]**2 + r2_com[1]**2 + r2_com[2]**2)\n",
    "        \n",
    "\n",
    "#         o = ((10**(2.2969))*(m_gal/ (10**(11) * const.M_sun))**(0.299)) * (u.km/u.s)\n",
    "#         # region code : Coulomb Logarithm\n",
    "#         x1 = (np.abs(r1_com.to(u.km)) * o**(2)) / (G * m1)\n",
    "#         x2 = (np.abs(r2_com.to(u.km)) * o**(2)) / (G * m2)\n",
    "#         ln_A1 = math.log10(x1.to_value(u.dimensionless_unscaled))\n",
    "#         ln_A2 = math.log10(x2.to_value(u.dimensionless_unscaled))\n",
    "#         # endregion\n",
    "\n",
    "#         F_D1 = 0.428 * ln_A1 * ((G * m1**(2))/r1_com**(2))\n",
    "#         F_D2 = 0.428 * ln_A2 * ((G * m2**(2))/r2_com**(2))\n",
    "\n",
    "\n",
    "#         v_r1 = v1 - v_com \n",
    "#         v_r2 = v2 - v_com\n",
    "\n",
    "#         v_rmag1 = np.sqrt(v_r1[0]**2 + v_r1[1]**2 + v_r1[2]**2)\n",
    "#         v_rmag2 = np.sqrt(v_r2[0]**2 + v_r2[1]**2 + v_r2[2]**2) #will be doing this from now on though linalg.norm does the same\n",
    "\n",
    "#         v_rel_unit1 = (v_r1 / v_rmag1)\n",
    "#         v_rel_unit2 = (v_r2 / v_rmag2)\n",
    "\n",
    "#         # region code: Dynamical Friction Component to Array for BH A\n",
    "#         F_D1_i = (F_D1 * -v_rel_unit1[0])\n",
    "#         F_D1_j = (F_D1 * -v_rel_unit1[1])\n",
    "#         F_D1_k = (F_D1 * -v_rel_unit1[2])\n",
    "            \n",
    "#         F_D1 = np.array([F_D1_i.to((u.kg*u.m)/(u.s**2)).value, F_D1_j.to((u.kg*u.m)/ (u.s**2)).value, F_D1_k.to((u.kg*u.m)/ (u.s**2)).value])\n",
    "#         # endregion\n",
    "\n",
    "#         # region code: Dynamical Friction Component to Array for BH B\n",
    "#         F_D2_i = (F_D2 * -v_rel_unit2[0])\n",
    "#         F_D2_j = (F_D2 * -v_rel_unit2[1])\n",
    "#         F_D2_k = (F_D2 * -v_rel_unit2[2])\n",
    "            \n",
    "#         F_D2 = np.array([F_D2_i.to((u.kg*u.m)/(u.s**2)).value, F_D2_j.to((u.kg*u.m)/ (u.s**2)).value, F_D2_k.to((u.kg*u.m)/ (u.s**2)).value])\n",
    "#         # endregion\n",
    "\n",
    "\n",
    "#         F_D1 = F_D1 * ((u.kg * u.m)/(u.s**2))\n",
    "#         F_D2 = F_D2 * ((u.kg * u.m)/(u.s**2))\n",
    "            \n",
    "\n",
    "#         F_D1 = (F_D1 / m1).to(u.km / u.s**2)\n",
    "#         F_D2 = (F_D2 / m2).to(u.km / u.s**2)\n",
    "#         F_D1sol.append([\n",
    "\n",
    "#             (F_D1_i.to((u.kg * u.m) / (u.s**2))/m1).value,\n",
    "#             (F_D1_j.to((u.kg * u.m) / (u.s**2))/m1).value,\n",
    "#             (F_D1_k.to((u.kg * u.m) / (u.s**2))/m1).value\n",
    "#         ])\n",
    "#         F_D2sol.append([\n",
    "\n",
    "#             (F_D2_i.to((u.kg * u.m) / (u.s**2))/m2).value,\n",
    "#             (F_D2_j.to((u.kg * u.m) / (u.s**2))/m2).value,\n",
    "#             (F_D2_k.to((u.kg * u.m) / (u.s**2))/m2).value\n",
    "#         ])\n",
    "\n",
    "#         r1_sol.append(r1.copy())\n",
    "#         r2_sol.append(r2.copy())\n",
    "#         v1_sol.append(v1.copy())\n",
    "#         v2_sol.append(v2.copy())\n",
    "\n",
    "\n",
    "#     F_D1sol = np.array(F_D1sol)\n",
    "#     F_D2sol = np.array(F_D2sol)\n",
    "\n",
    "\n",
    "#     mag_fd1 = np.sqrt(F_D1sol[:, 0]**2 + F_D1sol[:, 1]**2 + F_D1sol[:, 2]**2)\n",
    "#     mag_fd2 = np.sqrt(F_D2sol[:, 0]**2 + F_D2sol[:, 1]**2 + F_D2sol[:, 2]**2)\n",
    "\n",
    "\n",
    "#     axs[0].plot(time_values, mag_fd1, label=f\"c = {c}\")\n",
    "#     axs[1].plot(time_values, mag_fd2, label=f\"c = {c}\")\n",
    "\n",
    "\n",
    "# axs[0].set_title(\"Dynamical Friction - Body 1\")\n",
    "# axs[0].set_xlabel(\"Time (Myr)\")\n",
    "# axs[0].set_ylabel(\"Force Magnitude (km/s²)\")\n",
    "# axs[0].legend()\n",
    "\n",
    "# axs[1].set_title(\"Dynamical Friction - Body 2\")\n",
    "# axs[1].set_xlabel(\"Time (Myr)\")\n",
    "# axs[1].set_ylabel(\"Force Magnitude (km/s²)\")\n",
    "# axs[1].legend()\n",
    "\n",
    "# plt.tight_layout()\n",
    "# plt.show()"
   ]
  },
  {
   "cell_type": "markdown",
   "metadata": {},
   "source": [
    "Testing separation levels here"
   ]
  },
  {
   "cell_type": "code",
   "execution_count": 45,
   "metadata": {},
   "outputs": [],
   "source": [
    "# massterm = (m1+m2)/(10**8*u.Msun)\n",
    "# velterm = ((200*u.km/u.s)/o)**2\n",
    "# dynhard_rad = (10*u.pc*massterm*velterm).to(u.pc)\n",
    "# print(dynhard_rad) #this is the semi-major axis for when stellar hardening takes over from DF (so sep/2)"
   ]
  },
  {
   "cell_type": "markdown",
   "metadata": {},
   "source": [
    "Pickle"
   ]
  },
  {
   "cell_type": "code",
   "execution_count": 46,
   "metadata": {},
   "outputs": [],
   "source": [
    "v1_nodf = ((v1_nodf_arr * u.pc / u.yr).to(u.km / u.s)).value\n",
    "v2_nodf = ((v2_nodf_arr * u.pc / u.yr).to(u.km / u.s)).value\n",
    "a_grav1_nodf_arr = ((a_grav1_nodf * u.pc / u.yr**2).to(u.km / u.s**2)).value\n",
    "a_grav2_nodf_arr = ((a_grav2_nodf * u.pc / u.yr**2).to(u.km / u.s**2)).value\n",
    "a_df1_nodf_arr = ((a_df1_nodf * u.pc / u.yr**2).to(u.km / u.s**2)).value\n",
    "a_df2_nodf_arr = ((a_df2_nodf * u.pc / u.yr**2).to(u.km / u.s**2)).value\n",
    "a_tot1_nodf_arr = ((a_tot1_nodf * u.pc / u.yr**2).to(u.km / u.s**2)).value\n",
    "a_tot2_nodf_arr = ((a_tot2_nodf * u.pc / u.yr**2).to(u.km / u.s**2)).value\n",
    "\n",
    "v1_df = ((v1_df_arr * u.pc / u.yr).to(u.km / u.s)).value\n",
    "v2_df = ((v2_df_arr * u.pc / u.yr).to(u.km / u.s)).value\n",
    "a_grav1_df_arr = ((a_grav1_df * u.pc / u.yr**2).to(u.km / u.s**2)).value\n",
    "a_grav2_df_arr = ((a_grav2_df * u.pc / u.yr**2).to(u.km / u.s**2)).value\n",
    "a_df1_df_arr = ((a_df1_df * u.pc / u.yr**2).to(u.km / u.s**2)).value\n",
    "a_df2_df_arr = ((a_df2_df * u.pc / u.yr**2).to(u.km / u.s**2)).value\n",
    "a_tot1_df_arr = ((a_tot1_df * u.pc / u.yr**2).to(u.km / u.s**2)).value\n",
    "a_tot2_df_arr = ((a_tot2_df * u.pc / u.yr**2).to(u.km / u.s**2)).value\n"
   ]
  },
  {
   "cell_type": "code",
   "execution_count": 47,
   "metadata": {},
   "outputs": [],
   "source": [
    "data_dict_nodf = {\n",
    "    \"r1\": r1_nodf_arr,          \n",
    "    \"r2\": r2_nodf_arr,          \n",
    "    \"v1\": v1_nodf,          \n",
    "    \"v2\": v2_nodf,          \n",
    "    \"sep\": sep_nodf_arr,        \n",
    "    \"a_grav1\": a_grav1_nodf_arr,    \n",
    "    \"a_grav2\": a_grav2_nodf_arr,    \n",
    "    \"a_df1\": a_df1_nodf_arr,        \n",
    "    \"a_df2\": a_df2_nodf_arr,        \n",
    "    \"a_total1\": a_tot1_nodf_arr,    \n",
    "    \"a_total2\": a_tot2_nodf_arr,    \n",
    "    \"t\": t_eval                 \n",
    "}\n",
    "\n",
    "\n",
    "data_dict_df = {\n",
    "    \"r1\": r1_df_arr,\n",
    "    \"r2\": r2_df_arr,\n",
    "    \"v1\": v1_df,\n",
    "    \"v2\": v2_df,\n",
    "    \"sep\": sep_df_arr,\n",
    "    \"a_grav1\": a_grav1_df_arr,\n",
    "    \"a_grav2\": a_grav2_df_arr,\n",
    "    \"a_df1\": a_df1_df_arr,\n",
    "    \"a_df2\": a_df2_df_arr,\n",
    "    \"a_total1\": a_tot1_df_arr,\n",
    "    \"a_total2\": a_tot2_df_arr,\n",
    "    \"t\": t_eval\n",
    "}"
   ]
  },
  {
   "cell_type": "code",
   "execution_count": 48,
   "metadata": {},
   "outputs": [],
   "source": [
    "# with open(\"sim_data_no_df.pkl\", \"wb\") as f:\n",
    "#     pickle.dump(data_dict_nodf, f)\n",
    "\n",
    "# with open(\"sim_data_with_df.pkl\", \"wb\") as f:\n",
    "#     pickle.dump(data_dict_df, f)"
   ]
  },
  {
   "cell_type": "code",
   "execution_count": null,
   "metadata": {},
   "outputs": [],
   "source": []
  }
 ],
 "metadata": {
  "kernelspec": {
   "display_name": "base",
   "language": "python",
   "name": "python3"
  },
  "language_info": {
   "codemirror_mode": {
    "name": "ipython",
    "version": 3
   },
   "file_extension": ".py",
   "mimetype": "text/x-python",
   "name": "python",
   "nbconvert_exporter": "python",
   "pygments_lexer": "ipython3",
   "version": "3.10.6"
  }
 },
 "nbformat": 4,
 "nbformat_minor": 2
}
